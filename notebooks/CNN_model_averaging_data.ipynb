{
 "cells": [
  {
   "cell_type": "markdown",
   "metadata": {},
   "source": [
    "# Try out CNN on averaged EEG data\n",
    "\n",
    "## Pre-processing\n",
    "+ Import data.\n",
    "+ Apply filters (bandpass).\n",
    "+ Detect potential bad channels and replace them by interpolation.\n",
    "+ Detect potential bad epochs and remove them.\n",
    "+ Average over a number of randomly drawn epochs (of same person and same stimuli).\n",
    "\n",
    "## Train CNN network\n",
    "+ Define network architecture\n",
    "+ Split data\n",
    "+ Train model\n"
   ]
  },
  {
   "cell_type": "markdown",
   "metadata": {},
   "source": [
    "## Import packages & links"
   ]
  },
  {
   "cell_type": "code",
   "execution_count": 1,
   "metadata": {},
   "outputs": [],
   "source": [
    "# Import packages\n",
    "import os\n",
    "import sys\n",
    "import csv\n",
    "import fnmatch\n",
    "import numpy as np\n",
    "import pandas as pd\n",
    "import matplotlib.pyplot as plt\n",
    "sys.path.insert(0, os.path.dirname(os.getcwd()))\n",
    "\n",
    "import mne\n",
    "#%matplotlib inline\n",
    "#from mayavi import mlab"
   ]
  },
  {
   "cell_type": "code",
   "execution_count": 2,
   "metadata": {},
   "outputs": [],
   "source": [
    "from config import ROOT, PATH_CODE, PATH_DATA, PATH_OUTPUT, PATH_METADATA\n",
    "PATH_CNTS = os.path.join(PATH_DATA, \"17mnd mmn\")"
   ]
  },
  {
   "cell_type": "markdown",
   "metadata": {},
   "source": [
    "## Load pre-processed dataset\n",
    "+ See notebook for preprocessing: ePODIUM_prepare_data_for_ML.ipynb.ipynb"
   ]
  },
  {
   "cell_type": "code",
   "execution_count": 3,
   "metadata": {},
   "outputs": [],
   "source": [
    "PATH_DATA_processed = os.path.join(PATH_DATA, 'processed_data')\n",
    "\n",
    "dirs = os.listdir(PATH_DATA_processed)\n",
    "files_npy = fnmatch.filter(dirs, \"*.npy\")\n",
    "files_csv = fnmatch.filter(dirs, \"*.csv\")"
   ]
  },
  {
   "cell_type": "code",
   "execution_count": 4,
   "metadata": {},
   "outputs": [
    {
     "data": {
      "text/plain": [
       "(237, 237)"
      ]
     },
     "execution_count": 4,
     "metadata": {},
     "output_type": "execute_result"
    }
   ],
   "source": [
    "len(files_csv), len(files_npy)"
   ]
  },
  {
   "cell_type": "markdown",
   "metadata": {},
   "source": [
    "### Count the (main) labels for all present files"
   ]
  },
  {
   "cell_type": "code",
   "execution_count": 5,
   "metadata": {},
   "outputs": [],
   "source": [
    "def read_labels(filename, PATH):\n",
    "    metadata = []\n",
    "    filename = os.path.join(PATH, filename)\n",
    "    with open(filename, 'r') as readFile:\n",
    "        reader = csv.reader(readFile, delimiter=',')\n",
    "        for row in reader:\n",
    "            #if len(row) > 0:\n",
    "            metadata.append(row)\n",
    "    readFile.close()\n",
    "    \n",
    "    return metadata[0]"
   ]
  },
  {
   "cell_type": "code",
   "execution_count": 6,
   "metadata": {},
   "outputs": [],
   "source": [
    "label_collection = []\n",
    "label_counts = []\n",
    "\n",
    "for filename in files_csv:\n",
    "    y_EEG = read_labels(filename, PATH_DATA_processed)\n",
    "    labels_unique = list(set(y_EEG))\n",
    "    label_collection.append(labels_unique)\n",
    "    \n",
    "    # Count instances for each unique label\n",
    "    label_count = []\n",
    "    for label in labels_unique:\n",
    "        idx = np.where(np.array(y_EEG) == label)[0]\n",
    "        label_count.append(len(idx))\n",
    "    label_counts.append(label_count)"
   ]
  },
  {
   "cell_type": "code",
   "execution_count": 7,
   "metadata": {},
   "outputs": [],
   "source": [
    "def transform_label(label,\n",
    "                   label_dict,\n",
    "                   main_label_dict = None):\n",
    "    if label in label_dict:\n",
    "        label_new = label_dict[label]\n",
    "    else:\n",
    "        label_new = None\n",
    "    \n",
    "    if main_label_dict is not None:\n",
    "        if label in main_label_dict:\n",
    "            main_label = main_label_dict[label]\n",
    "        else:\n",
    "            main_label = None\n",
    "        return label_new, main_label\n",
    "    \n",
    "    else:\n",
    "        return label_new\n",
    "    "
   ]
  },
  {
   "cell_type": "markdown",
   "metadata": {},
   "source": [
    "### Define new labels"
   ]
  },
  {
   "cell_type": "code",
   "execution_count": 8,
   "metadata": {},
   "outputs": [],
   "source": [
    "label_dict  = {\n",
    "    '3dys0_risk0': '0',\n",
    "    '13dys0_risk0': '1',\n",
    "    '66dys0_risk0': '2',\n",
    "    '3dys0_risk1': '0',\n",
    "    '13dys0_risk1': '1',\n",
    "    '66dys0_risk1': '2',\n",
    "    '3dys1_risk0': '3',\n",
    "    '13dys1_risk0': '4',\n",
    "    '66dys1_risk0': '5',\n",
    "    '3dys1_risk1': '3',\n",
    "    '13dys1_risk1': '4',\n",
    "    '66dys1_risk1': '5',\n",
    "}\n",
    "\n",
    "main_label_dict  = {\n",
    "    '3dys0_risk0': '0',\n",
    "    '13dys0_risk0': '0',\n",
    "    '66dys0_risk0': '0',\n",
    "    '3dys0_risk1': '0',\n",
    "    '13dys0_risk1': '0',\n",
    "    '66dys0_risk1': '0',\n",
    "    '3dys1_risk0': '1',\n",
    "    '13dys1_risk0': '1',\n",
    "    '66dys1_risk0': '1',\n",
    "    '3dys1_risk1': '1',\n",
    "    '13dys1_risk1': '1',\n",
    "    '66dys1_risk1': '1',\n",
    "}"
   ]
  },
  {
   "cell_type": "markdown",
   "metadata": {},
   "source": [
    "### Collect main labels (here: dyslexic 0 | 1)"
   ]
  },
  {
   "cell_type": "code",
   "execution_count": 9,
   "metadata": {},
   "outputs": [
    {
     "data": {
      "text/plain": [
       "237"
      ]
     },
     "execution_count": 9,
     "metadata": {},
     "output_type": "execute_result"
    }
   ],
   "source": [
    "main_labels = [transform_label(x[0], label_dict, main_label_dict)[1] for x in label_collection]\n",
    "len(main_labels)"
   ]
  },
  {
   "cell_type": "markdown",
   "metadata": {},
   "source": [
    "## Import and initiate data generator function"
   ]
  },
  {
   "cell_type": "code",
   "execution_count": 10,
   "metadata": {},
   "outputs": [],
   "source": [
    "from dataset_generator import DataGenerator"
   ]
  },
  {
   "cell_type": "code",
   "execution_count": 11,
   "metadata": {},
   "outputs": [
    {
     "data": {
      "text/plain": [
       "['processed_data_005_17_jc_mmn36_slp_mmn25_slp_mmn47_mixed.csv',\n",
       " 'processed_data_006_17_mc_mmn36_slp.csv',\n",
       " 'processed_data_008_17_jc_mmn.csv',\n",
       " 'processed_data_008_17_jc_mmn2.csv',\n",
       " 'processed_data_009_17_jc_mmn36_wk_mmn25_wk.csv']"
      ]
     },
     "execution_count": 11,
     "metadata": {},
     "output_type": "execute_result"
    }
   ],
   "source": [
    "files_csv[:5]"
   ]
  },
  {
   "cell_type": "markdown",
   "metadata": {},
   "source": [
    "### Split data set"
   ]
  },
  {
   "cell_type": "code",
   "execution_count": 12,
   "metadata": {},
   "outputs": [
    {
     "name": "stdout",
     "output_type": "stream",
     "text": [
      "Found datapoints for label 0 ---> 150\n",
      "Found datapoints for label 1 ---> 87\n"
     ]
    }
   ],
   "source": [
    "for label in list(set(main_labels)):\n",
    "    print(\"Found datapoints for label\", label, \"--->\", main_labels.count(label))"
   ]
  },
  {
   "cell_type": "code",
   "execution_count": 13,
   "metadata": {},
   "outputs": [
    {
     "data": {
      "text/plain": [
       "(87,)"
      ]
     },
     "execution_count": 13,
     "metadata": {},
     "output_type": "execute_result"
    }
   ],
   "source": [
    "np.where(np.array(main_labels) == '1')[0].shape"
   ]
  },
  {
   "cell_type": "code",
   "execution_count": 14,
   "metadata": {},
   "outputs": [
    {
     "name": "stdout",
     "output_type": "stream",
     "text": [
      "Found 150 datapoints for label 0\n",
      "Split dataset for label 0 into train/val/test fractions: 120 15 15\n",
      "Found 87 datapoints for label 1\n",
      "Split dataset for label 1 into train/val/test fractions: 69 8 10\n"
     ]
    }
   ],
   "source": [
    "np.random.seed(1098)\n",
    "split_ratio = (0.8, 0.1, 0.1)\n",
    "\n",
    "IDs_train = []\n",
    "IDs_val = []\n",
    "IDs_test = []\n",
    "\n",
    "for label in list(set(main_labels)):\n",
    "    idx = np.where(np.array(main_labels) == label)[0]\n",
    "    N_label = len(idx)\n",
    "    print(\"Found\", N_label, \"datapoints for label\", label)\n",
    "    \n",
    "    N_train = int(split_ratio[0] * N_label)\n",
    "    N_val = int(split_ratio[1] * N_label)\n",
    "    N_test = N_label - N_train - N_val\n",
    "    print(\"Split dataset for label\", label, \"into train/val/test fractions:\", N_train, N_val, N_test)\n",
    "    \n",
    "    # Select training, validation, and test IDs:\n",
    "    trainIDs = np.random.choice(idx, N_train, replace=False)\n",
    "    valIDs = np.random.choice(list(set(idx) - set(trainIDs)), N_val, replace=False)\n",
    "    testIDs = list(set(idx) - set(trainIDs) - set(valIDs))\n",
    "    \n",
    "    IDs_train.extend(list(trainIDs))\n",
    "    IDs_val.extend(list(valIDs))\n",
    "    IDs_test.extend(list(testIDs))"
   ]
  },
  {
   "cell_type": "code",
   "execution_count": 15,
   "metadata": {},
   "outputs": [
    {
     "name": "stdout",
     "output_type": "stream",
     "text": [
      "[226, 70, 102, 218, 202, 48, 19, 21, 150, 213, 88, 90, 156, 93, 95, 196, 200, 139, 236, 113, 116, 125, 122, 188, 189]\n"
     ]
    }
   ],
   "source": [
    "print(IDs_test)"
   ]
  },
  {
   "cell_type": "code",
   "execution_count": 16,
   "metadata": {},
   "outputs": [
    {
     "name": "stdout",
     "output_type": "stream",
     "text": [
      "[29, 84, 124, 20, 78, 204, 194, 165, 220, 181, 176, 179, 87, 157, 1, 76, 17, 10, 174, 13, 144, 18, 6, 3, 152, 155, 232, 108, 223, 15, 153, 12, 7, 32, 180, 91, 71, 92, 177, 79, 89, 161, 77, 40, 73, 175, 166, 25, 2, 126, 228, 197, 107, 114, 53, 206, 16, 80, 173, 101, 55, 0, 60, 36, 105, 51, 151, 58, 37, 147, 23, 5, 81, 82, 75, 205, 172, 154, 134, 86, 128, 46, 8, 163, 45, 219, 224, 164, 158, 160, 59, 129, 72, 103, 4, 74, 198, 135, 9, 170, 167, 99, 121, 178, 104, 63, 203, 28, 100, 83, 22, 123, 221, 169, 42, 11, 130, 182, 159, 39, 38, 185, 41, 33, 27, 208, 49, 142, 133, 190, 138, 34, 211, 212, 186, 131, 146, 66, 52, 132, 127, 199, 235, 35, 183, 141, 68, 111, 117, 69, 54, 43, 225, 149, 216, 56, 193, 214, 67, 112, 109, 24, 201, 207, 215, 143, 110, 145, 47, 231, 26, 222, 209, 191, 115, 187, 210, 140, 50, 233, 230, 234, 217, 195, 192, 136, 229, 120, 148]\n"
     ]
    }
   ],
   "source": [
    "print(IDs_train)"
   ]
  },
  {
   "cell_type": "code",
   "execution_count": 37,
   "metadata": {},
   "outputs": [],
   "source": [
    "train_generator = DataGenerator(list_IDs = IDs_train,\n",
    "                                 main_labels = main_labels,\n",
    "                                 label_dict = label_dict,\n",
    "                                 path_data = PATH_DATA_processed,\n",
    "                                 filenames = [x[:-4] for x in files_csv],\n",
    "                                 data_path = PATH_DATA_processed, \n",
    "                                 to_fit=True, \n",
    "                                 n_average = 30,\n",
    "                                 batch_size = 20,\n",
    "                                 iter_per_epoch = 20,\n",
    "                                 up_sampling = True,\n",
    "                                 n_timepoints = 501,\n",
    "                                 n_channels=30, \n",
    "                                 n_classes=1, \n",
    "                                 shuffle=True)\n",
    "\n",
    "val_generator = DataGenerator(list_IDs = IDs_val,\n",
    "                                 main_labels = main_labels,\n",
    "                                 label_dict = label_dict,\n",
    "                                 path_data = PATH_DATA_processed,\n",
    "                                 filenames = [x[:-4] for x in files_csv],\n",
    "                                 data_path = PATH_DATA_processed, \n",
    "                                 to_fit=True, \n",
    "                                 n_average = 30,\n",
    "                                 batch_size = 20,\n",
    "                                 iter_per_epoch = 10,\n",
    "                                 up_sampling = True,\n",
    "                                 n_timepoints = 501,\n",
    "                                 n_channels=30, \n",
    "                                 n_classes=1, \n",
    "                                 shuffle=True)"
   ]
  },
  {
   "cell_type": "code",
   "execution_count": 18,
   "metadata": {},
   "outputs": [],
   "source": [
    "X, y  = train_generator.__getitem__(0)"
   ]
  },
  {
   "cell_type": "code",
   "execution_count": 19,
   "metadata": {},
   "outputs": [
    {
     "data": {
      "text/plain": [
       "((58, 501, 30), 58)"
      ]
     },
     "execution_count": 19,
     "metadata": {},
     "output_type": "execute_result"
    }
   ],
   "source": [
    "X.shape, len(y)"
   ]
  },
  {
   "cell_type": "code",
   "execution_count": 20,
   "metadata": {},
   "outputs": [
    {
     "name": "stdout",
     "output_type": "stream",
     "text": [
      "[[0 1 0 0 0 0]\n",
      " [0 0 0 0 1 0]\n",
      " [0 1 0 0 0 0]\n",
      " [0 0 1 0 0 0]\n",
      " [1 0 0 0 0 0]\n",
      " [0 1 0 0 0 0]\n",
      " [0 1 0 0 0 0]\n",
      " [0 0 0 0 0 1]\n",
      " [0 0 0 0 1 0]\n",
      " [0 0 1 0 0 0]\n",
      " [0 0 0 0 0 1]]\n"
     ]
    }
   ],
   "source": [
    "print(y[:11])"
   ]
  },
  {
   "cell_type": "code",
   "execution_count": 21,
   "metadata": {},
   "outputs": [
    {
     "data": {
      "image/png": "[encoded data removed]",
      "text/plain": [
       "<Figure size 432x288 with 1 Axes>"
      ]
     },
     "metadata": {
      "needs_background": "light"
     },
     "output_type": "display_data"
    }
   ],
   "source": [
    "for i in range(10):\n",
    "    label = np.where(y[i] == 1)[0][0]\n",
    "    plt.plot(X[i,8,:], alpha = 0.5, color=(label/5,0, label/5))"
   ]
  },
  {
   "cell_type": "code",
   "execution_count": null,
   "metadata": {},
   "outputs": [],
   "source": []
  },
  {
   "cell_type": "code",
   "execution_count": null,
   "metadata": {},
   "outputs": [],
   "source": []
  },
  {
   "cell_type": "markdown",
   "metadata": {},
   "source": [
    "## Define model architecture"
   ]
  },
  {
   "cell_type": "code",
   "execution_count": 25,
   "metadata": {},
   "outputs": [],
   "source": [
    "import tensorflow as tf\n",
    "from tensorflow.keras import layers\n",
    "from tensorflow.keras.callbacks import ModelCheckpoint, EarlyStopping\n",
    "from tensorflow.keras import optimizers"
   ]
  },
  {
   "cell_type": "code",
   "execution_count": 38,
   "metadata": {},
   "outputs": [],
   "source": [
    "# Simple CNN model\n",
    "n_timesteps = 501\n",
    "n_features = 30\n",
    "n_outputs = 6\n",
    "\n",
    "model = tf.keras.Sequential()\n",
    "model.add(layers.Conv1D(filters=48, kernel_size=20, input_shape=(n_timesteps,n_features)))\n",
    "model.add(layers.BatchNormalization())\n",
    "model.add(layers.LeakyReLU())\n",
    "model.add(layers.AveragePooling1D(pool_size=2))\n",
    "\n",
    "model.add(layers.Conv1D(filters=64, kernel_size=10)) #, activation='relu'))\n",
    "model.add(layers.BatchNormalization())\n",
    "model.add(layers.LeakyReLU())\n",
    "model.add(layers.AveragePooling1D(pool_size=2))\n",
    "\n",
    "model.add(layers.Conv1D(filters=96, kernel_size=5)) #, activation='relu'))\n",
    "model.add(layers.BatchNormalization())\n",
    "model.add(layers.LeakyReLU())\n",
    "model.add(layers.AveragePooling1D(pool_size=2))\n",
    "\n",
    "#model.add(layers.Conv1D(filters=96, kernel_size=3, activation='relu'))\n",
    "#model.add(layers.AveragePooling1D(pool_size=2))\n",
    "#model.add(layers.MaxPooling1D(pool_size=2))\n",
    "\n",
    "model.add(layers.Flatten())\n",
    "model.add(layers.Dense(100, activation='relu'))\n",
    "model.add(layers.Dropout(0.5))\n",
    "model.add(layers.Dense(60, activation='relu'))\n",
    "model.add(layers.Dense(n_outputs, activation='softmax'))\n",
    "\n",
    "optimizer = optimizers.Adam(lr=0.0001, beta_1=0.9, beta_2=0.999, amsgrad=False)\n",
    "model.compile(loss='categorical_crossentropy', optimizer=optimizer, metrics=['accuracy'])\n",
    "#model.compile(loss='categorical_crossentropy', optimizer='adadelta', metrics=['accuracy'])"
   ]
  },
  {
   "cell_type": "code",
   "execution_count": 39,
   "metadata": {},
   "outputs": [
    {
     "name": "stdout",
     "output_type": "stream",
     "text": [
      "_________________________________________________________________\n",
      "Layer (type)                 Output Shape              Param #   \n",
      "=================================================================\n",
      "conv1d_15 (Conv1D)           (None, 482, 48)           28848     \n",
      "_________________________________________________________________\n",
      "batch_normalization_v1_15 (B (None, 482, 48)           192       \n",
      "_________________________________________________________________\n",
      "leaky_re_lu_15 (LeakyReLU)   (None, 482, 48)           0         \n",
      "_________________________________________________________________\n",
      "average_pooling1d_15 (Averag (None, 241, 48)           0         \n",
      "_________________________________________________________________\n",
      "conv1d_16 (Conv1D)           (None, 232, 64)           30784     \n",
      "_________________________________________________________________\n",
      "batch_normalization_v1_16 (B (None, 232, 64)           256       \n",
      "_________________________________________________________________\n",
      "leaky_re_lu_16 (LeakyReLU)   (None, 232, 64)           0         \n",
      "_________________________________________________________________\n",
      "average_pooling1d_16 (Averag (None, 116, 64)           0         \n",
      "_________________________________________________________________\n",
      "conv1d_17 (Conv1D)           (None, 112, 96)           30816     \n",
      "_________________________________________________________________\n",
      "batch_normalization_v1_17 (B (None, 112, 96)           384       \n",
      "_________________________________________________________________\n",
      "leaky_re_lu_17 (LeakyReLU)   (None, 112, 96)           0         \n",
      "_________________________________________________________________\n",
      "average_pooling1d_17 (Averag (None, 56, 96)            0         \n",
      "_________________________________________________________________\n",
      "flatten_5 (Flatten)          (None, 5376)              0         \n",
      "_________________________________________________________________\n",
      "dense_12 (Dense)             (None, 100)               537700    \n",
      "_________________________________________________________________\n",
      "dropout_5 (Dropout)          (None, 100)               0         \n",
      "_________________________________________________________________\n",
      "dense_13 (Dense)             (None, 60)                6060      \n",
      "_________________________________________________________________\n",
      "dense_14 (Dense)             (None, 6)                 366       \n",
      "=================================================================\n",
      "Total params: 635,406\n",
      "Trainable params: 634,990\n",
      "Non-trainable params: 416\n",
      "_________________________________________________________________\n"
     ]
    }
   ],
   "source": [
    "model.summary()"
   ]
  },
  {
   "cell_type": "code",
   "execution_count": null,
   "metadata": {},
   "outputs": [
    {
     "name": "stdout",
     "output_type": "stream",
     "text": [
      "Epoch 1/50\n",
      "1/1 [==============================] - 6s 6s/step - loss: 1.8019 - acc: 0.1509\n",
      "\n",
      "Epoch 00001: saving model to C:\\OneDrive - Netherlands eScience Center\\Project_ePodium\\EEG_dyslexia_prediction\\models_trained\\CNN_EEG_classifier_avg.hdf5\n",
      "9/9 [==============================] - 40s 4s/step - loss: 2.0641 - acc: 0.1692 - val_loss: 1.8019 - val_acc: 0.1509\n",
      "Epoch 2/50\n",
      "1/1 [==============================] - 4s 4s/step - loss: 1.7962 - acc: 0.1273\n",
      "\n",
      "Epoch 00002: saving model to C:\\OneDrive - Netherlands eScience Center\\Project_ePodium\\EEG_dyslexia_prediction\\models_trained\\CNN_EEG_classifier_avg.hdf5\n",
      "9/9 [==============================] - 23s 3s/step - loss: 1.9101 - acc: 0.1889 - val_loss: 1.7962 - val_acc: 0.1273\n",
      "Epoch 3/50\n",
      "1/1 [==============================] - 4s 4s/step - loss: 1.7940 - acc: 0.1296\n",
      "\n",
      "Epoch 00003: saving model to C:\\OneDrive - Netherlands eScience Center\\Project_ePodium\\EEG_dyslexia_prediction\\models_trained\\CNN_EEG_classifier_avg.hdf5\n",
      "9/9 [==============================] - 26s 3s/step - loss: 1.8623 - acc: 0.1876 - val_loss: 1.7940 - val_acc: 0.1296\n",
      "Epoch 4/50\n",
      "8/9 [=========================>....] - ETA: 2s - loss: 1.8611 - acc: 0.1793"
     ]
    }
   ],
   "source": [
    "# Save best model and include early stopping\n",
    "output_filename = 'CNN_EEG_classifier_avg.hdf5'\n",
    "output_file = os.path.join(PATH_CODE, 'models_trained' , output_filename)\n",
    "checkpointer = ModelCheckpoint(filepath = output_file, \n",
    "                               monitor='val_acc', \n",
    "                               verbose=1, \n",
    "                               save_best_only=False)\n",
    "earlystopper = EarlyStopping(monitor='val_acc', patience=5, verbose=1)\n",
    "\n",
    "model.fit_generator(generator=train_generator, \n",
    "                   validation_data=val_generator,\n",
    "                   epochs=50,\n",
    "                   callbacks = [\n",
    "                       checkpointer, \n",
    "                        earlystopper,\n",
    "                   ]\n",
    "                  )"
   ]
  },
  {
   "cell_type": "code",
   "execution_count": null,
   "metadata": {},
   "outputs": [],
   "source": []
  },
  {
   "cell_type": "code",
   "execution_count": null,
   "metadata": {},
   "outputs": [],
   "source": []
  },
  {
   "cell_type": "markdown",
   "metadata": {},
   "source": [
    "# 1. Make clearer disctinction between training, test, validation data!\n",
    "To be sure the network is able to make predictions using unseen data, the dataset could be split according to persons! Unfortunately we only have data here for 57 persons (24 in group 1 and 33 in group 2).  \n",
    "This makes this approach a bit complicated\n",
    "\n",
    "## Idea for next steps:\n",
    "We could also loop through different test-person/train-person splits and independently train models on those datasets. Then, in the the end the outcome would be averaged over all of those. This way we would make better use of the data we have!"
   ]
  },
  {
   "cell_type": "code",
   "execution_count": 11,
   "metadata": {},
   "outputs": [],
   "source": [
    "groups = []\n",
    "for ID in range(len(metadata)):\n",
    "    if ID == 0:\n",
    "        low = 0\n",
    "    else:\n",
    "        low = int(metadata[ID-1][2])\n",
    "        \n",
    "    groups.append(int(label_collection[low]/3))"
   ]
  },
  {
   "cell_type": "code",
   "execution_count": 12,
   "metadata": {},
   "outputs": [],
   "source": [
    "group_1_ids = np.where(np.array(groups) == 1)[0]\n",
    "group_2_ids = np.where(np.array(groups) == 1)[0]"
   ]
  },
  {
   "cell_type": "code",
   "execution_count": 13,
   "metadata": {},
   "outputs": [
    {
     "data": {
      "text/plain": [
       "array([ 0,  1,  3,  4,  5,  6,  7,  8,  9, 10, 11, 31, 32, 33, 34, 35, 36,\n",
       "       37, 38, 39, 40, 41, 42, 43], dtype=int64)"
      ]
     },
     "execution_count": 13,
     "metadata": {},
     "output_type": "execute_result"
    }
   ],
   "source": [
    "# inspect group 2 ID's\n",
    "group_2_ids"
   ]
  },
  {
   "cell_type": "code",
   "execution_count": 15,
   "metadata": {
    "scrolled": true
   },
   "outputs": [],
   "source": [
    "n_epochs = 30 # Average over n_epochs epochs\n",
    "n_class3_per_patient = 20\n",
    "n_class13_per_patient = 10\n",
    "n_class66_per_patient = 10\n",
    "\n",
    "# Make selection \n",
    "group_1_ids = np.where(np.array(groups) == 1)[0]\n",
    "group_2_ids = np.where(np.array(groups) == 2)[0]\n",
    "keep_group1_for_test = 10\n",
    "keep_group2_for_test = 10\n",
    "\n",
    "# Initialize random numbers to get reproducible results \n",
    "np.random.seed(1)\n",
    "\n",
    "# Make random selection\n",
    "selected_ids_test = [x for x in np.concatenate([np.random.choice(group_1_ids, keep_group1_for_test),\n",
    "                                   np.random.choice(group_2_ids, keep_group2_for_test)])]\n",
    "\n",
    "selected_ids = [x for x in range(len(metadata)) if not x in selected_ids_test]"
   ]
  },
  {
   "cell_type": "code",
   "execution_count": 111,
   "metadata": {},
   "outputs": [
    {
     "data": {
      "text/plain": [
       "[6, 31, 32, 9, 10, 31, 6, 35, 0, 36, 12, 23, 18, 17, 49, 44, 29, 44, 22, 52]"
      ]
     },
     "execution_count": 111,
     "metadata": {},
     "output_type": "execute_result"
    }
   ],
   "source": [
    "selected_ids_test"
   ]
  },
  {
   "cell_type": "code",
   "execution_count": 12,
   "metadata": {},
   "outputs": [
    {
     "ename": "NameError",
     "evalue": "name 'create_averaged_data' is not defined",
     "output_type": "error",
     "traceback": [
      "\u001b[1;31m---------------------------------------------------------------------------\u001b[0m",
      "\u001b[1;31mNameError\u001b[0m                                 Traceback (most recent call last)",
      "\u001b[1;32m<ipython-input-12-459754848f08>\u001b[0m in \u001b[0;36m<module>\u001b[1;34m\u001b[0m\n\u001b[1;32m----> 1\u001b[1;33m X_data, y_data = create_averaged_data(signal_collection, \n\u001b[0m\u001b[0;32m      2\u001b[0m                          \u001b[0mlabel_collection\u001b[0m\u001b[1;33m,\u001b[0m\u001b[1;33m\u001b[0m\u001b[1;33m\u001b[0m\u001b[0m\n\u001b[0;32m      3\u001b[0m                          \u001b[0mmetadata\u001b[0m\u001b[1;33m,\u001b[0m\u001b[1;33m\u001b[0m\u001b[1;33m\u001b[0m\u001b[0m\n\u001b[0;32m      4\u001b[0m                          \u001b[0mn_epochs\u001b[0m\u001b[1;33m,\u001b[0m\u001b[1;33m\u001b[0m\u001b[1;33m\u001b[0m\u001b[0m\n\u001b[0;32m      5\u001b[0m                          selected_ids)\n",
      "\u001b[1;31mNameError\u001b[0m: name 'create_averaged_data' is not defined"
     ]
    }
   ],
   "source": [
    "X_data, y_data = create_averaged_data(signal_collection, \n",
    "                         label_collection, \n",
    "                         metadata, \n",
    "                         n_epochs, \n",
    "                         selected_ids)"
   ]
  },
  {
   "cell_type": "code",
   "execution_count": 18,
   "metadata": {},
   "outputs": [
    {
     "name": "stdout",
     "output_type": "stream",
     "text": [
      "person ID: 6 . Originally from file:  308_17_jc_mmn36_wk.cnt\n",
      "person ID: 31 . Originally from file:  602-115-17m-mc-mmn.cnt\n",
      "person ID: 32 . Originally from file:  604-133-17m-jc-mmn36.cnt\n",
      "person ID: 9 . Originally from file:  337_17_jc_mmn36_wk.cnt\n",
      "person ID: 10 . Originally from file:  343_17_mc_mmm36_wk.cnt\n",
      "person ID: 31 . Originally from file:  602-115-17m-mc-mmn.cnt\n",
      "person ID: 6 . Originally from file:  308_17_jc_mmn36_wk.cnt\n",
      "person ID: 35 . Originally from file:  611_157_17m_mc_mmn36.cnt\n",
      "person ID: 0 . Originally from file:  034_17_mc_mmn36_wk.cnt\n",
      "person ID: 36 . Originally from file:  619-247-17m-mc-mmn36.cnt\n",
      "person ID: 12 . Originally from file:  406_17_md_mmn.cnt\n",
      "person ID: 23 . Originally from file:  472_17_jd_mmn36_wk.cnt\n",
      "person ID: 18 . Originally from file:  436_17_jd_mmn36_wk.cnt\n",
      "person ID: 17 . Originally from file:  435_17_md_mmn36_wk.cnt\n",
      "person ID: 49 . Originally from file:  726_126_17m-jr_mmn36.cnt\n",
      "person ID: 44 . Originally from file:  707-060-17m-jd-mmn.cnt\n",
      "person ID: 29 . Originally from file:  489_17_md_mmn36_wk.cnt\n",
      "person ID: 44 . Originally from file:  707-060-17m-jd-mmn.cnt\n",
      "person ID: 22 . Originally from file:  466_17_md_mmn36_wk.cnt\n",
      "person ID: 52 . Originally from file:  749-461-17m-jr-mmn36.cnt\n"
     ]
    }
   ],
   "source": [
    "X_test, y_test = create_averaged_data(signal_collection, \n",
    "                         label_collection, \n",
    "                         metadata, \n",
    "                         n_epochs, \n",
    "                         selected_ids_test)"
   ]
  },
  {
   "cell_type": "code",
   "execution_count": 19,
   "metadata": {},
   "outputs": [
    {
     "name": "stdout",
     "output_type": "stream",
     "text": [
      "(1570, 30, 501) 1570\n",
      "(800, 30, 501) 800\n"
     ]
    }
   ],
   "source": [
    "print(X_data.shape, len(y_data))\n",
    "print(X_test.shape, len(y_test))"
   ]
  },
  {
   "cell_type": "code",
   "execution_count": 32,
   "metadata": {},
   "outputs": [
    {
     "name": "stdout",
     "output_type": "stream",
     "text": [
      "3 200\n",
      "6 200\n",
      "13 100\n",
      "26 100\n",
      "66 100\n",
      "132 100\n"
     ]
    }
   ],
   "source": [
    "# Check if samples of all label classes are present in both test and train\n",
    "for i in [3, 6, 13, 26, 66, 132]:\n",
    "    print(i, np.sum(np.array(y_test) == i))"
   ]
  },
  {
   "cell_type": "markdown",
   "metadata": {},
   "source": [
    "## Normalization of EEG signals"
   ]
  },
  {
   "cell_type": "code",
   "execution_count": 33,
   "metadata": {},
   "outputs": [],
   "source": [
    "Xmean = np.concatenate([X_data, X_test]).mean()\n",
    "X_data = X_data - Xmean\n",
    "X_test = X_test - Xmean\n",
    "\n",
    "Xmax = np.concatenate([X_data, X_test]).max()\n",
    "\n",
    "X_data = X_data / Xmax\n",
    "X_test = X_test / Xmax"
   ]
  },
  {
   "cell_type": "code",
   "execution_count": 34,
   "metadata": {},
   "outputs": [
    {
     "data": {
      "text/plain": [
       "(-0.0001577112562104391, 1.0, -0.8624177914571192)"
      ]
     },
     "execution_count": 34,
     "metadata": {},
     "output_type": "execute_result"
    }
   ],
   "source": [
    "X_data.mean(), X_data.max(),X_data.min()"
   ]
  },
  {
   "cell_type": "markdown",
   "metadata": {},
   "source": [
    "## Split training data\n",
    "### Now the test dataset is already entirely seperate from the rest! \n",
    "+ validation data, used to monitor the model progress and avoid overfitting.\n",
    "+ testing data, meant for final check on model performance.\n",
    "+ --> Create validation and test data set from seperated data!!"
   ]
  },
  {
   "cell_type": "code",
   "execution_count": 35,
   "metadata": {},
   "outputs": [],
   "source": [
    "from sklearn.model_selection import train_test_split\n",
    "from sklearn.utils import shuffle\n",
    "\n",
    "X_val, X_test, y_val, y_test = train_test_split(X_test, y_test, test_size=0.5, random_state=1)\n",
    "X_train, y_train = shuffle(X_data, y_data, random_state=1)"
   ]
  },
  {
   "cell_type": "code",
   "execution_count": 36,
   "metadata": {},
   "outputs": [
    {
     "name": "stdout",
     "output_type": "stream",
     "text": [
      "Train set size: 1570\n",
      "Validation set size: 400\n",
      "Test set size: 400\n",
      "\n",
      "X_train mean, min, max:  -0.00015771125621043887 -0.8624177914571192 1.0\n"
     ]
    }
   ],
   "source": [
    "print('Train set size:', X_train.shape[0])\n",
    "print('Validation set size:', X_val.shape[0])\n",
    "print('Test set size:', X_test.shape[0])\n",
    "print()\n",
    "print(\"X_train mean, min, max: \", np.mean(X_train), np.min(X_train), np.max(X_train))"
   ]
  },
  {
   "cell_type": "code",
   "execution_count": 61,
   "metadata": {},
   "outputs": [
    {
     "name": "stdout",
     "output_type": "stream",
     "text": [
      "3 98\n",
      "6 101\n",
      "13 52\n",
      "26 49\n",
      "66 48\n",
      "132 52\n",
      "\n",
      "3 102\n",
      "6 99\n",
      "13 48\n",
      "26 51\n",
      "66 52\n",
      "132 48\n"
     ]
    }
   ],
   "source": [
    "# Check if samples of all label classes are present in both test and train\n",
    "for i in [3, 6, 13, 26, 66, 132]:\n",
    "    print(i, np.sum(np.array(y_test) == i))\n",
    "\n",
    "print()\n",
    "for i in [3, 6, 13, 26, 66, 132]:\n",
    "    print(i, np.sum(np.array(y_val) == i))"
   ]
  },
  {
   "cell_type": "markdown",
   "metadata": {},
   "source": [
    "## Switch to 1-hot encoding for labels\n",
    "We have six categories or classes. Those are best represented by a so called **1-hot encoding**. This means nothing else than simply a binary 0-or-1 for every class.  \n",
    "The categories we have are:  \n",
    "3 -> group 0 + stimuli \"3\"  \n",
    "6 -> group 1 + stimuli \"3\"  \n",
    "13 -> group 0 + stimuli \"13\"  \n",
    "26 -> group 1 + stimuli \"13\"  \n",
    "66 -> group 0 + stimuli \"66\"  \n",
    "128 -> group 1 + stimuli \"66\"  \n"
   ]
  },
  {
   "cell_type": "code",
   "execution_count": 37,
   "metadata": {},
   "outputs": [],
   "source": [
    "from sklearn.preprocessing import LabelBinarizer\n",
    "label_transform = LabelBinarizer()\n",
    "\n",
    "y_train_binary = label_transform.fit_transform(np.array(y_train).astype(int))\n",
    "y_val_binary = label_transform.fit_transform(np.array(y_val).astype(int))\n",
    "y_test_binary = label_transform.fit_transform(np.array(y_test).astype(int))"
   ]
  },
  {
   "cell_type": "code",
   "execution_count": 38,
   "metadata": {},
   "outputs": [
    {
     "data": {
      "text/plain": [
       "array([[1, 0, 0, 0, 0, 0],\n",
       "       [0, 0, 0, 0, 1, 0],\n",
       "       [0, 1, 0, 0, 0, 0],\n",
       "       [0, 1, 0, 0, 0, 0],\n",
       "       [0, 1, 0, 0, 0, 0],\n",
       "       [1, 0, 0, 0, 0, 0],\n",
       "       [0, 0, 0, 0, 0, 1],\n",
       "       [1, 0, 0, 0, 0, 0],\n",
       "       [1, 0, 0, 0, 0, 0],\n",
       "       [1, 0, 0, 0, 0, 0]])"
      ]
     },
     "execution_count": 38,
     "metadata": {},
     "output_type": "execute_result"
    }
   ],
   "source": [
    "y_val_binary[:10,:]"
   ]
  },
  {
   "cell_type": "code",
   "execution_count": 39,
   "metadata": {},
   "outputs": [
    {
     "data": {
      "text/plain": [
       "array([  3,   6,  13,  26,  66, 132])"
      ]
     },
     "execution_count": 39,
     "metadata": {},
     "output_type": "execute_result"
    }
   ],
   "source": [
    "# Show found labels:\n",
    "label_transform.classes_"
   ]
  },
  {
   "cell_type": "markdown",
   "metadata": {},
   "source": [
    "Check distribution accross the 6 label categories:"
   ]
  },
  {
   "cell_type": "code",
   "execution_count": 40,
   "metadata": {},
   "outputs": [
    {
     "data": {
      "text/html": [
       "<div>\n",
       "<style scoped>\n",
       "    .dataframe tbody tr th:only-of-type {\n",
       "        vertical-align: middle;\n",
       "    }\n",
       "\n",
       "    .dataframe tbody tr th {\n",
       "        vertical-align: top;\n",
       "    }\n",
       "\n",
       "    .dataframe thead th {\n",
       "        text-align: right;\n",
       "    }\n",
       "</style>\n",
       "<table border=\"1\" class=\"dataframe\">\n",
       "  <thead>\n",
       "    <tr style=\"text-align: right;\">\n",
       "      <th></th>\n",
       "      <th>frequency</th>\n",
       "    </tr>\n",
       "  </thead>\n",
       "  <tbody>\n",
       "    <tr>\n",
       "      <th>3</th>\n",
       "      <td>0.203822</td>\n",
       "    </tr>\n",
       "    <tr>\n",
       "      <th>6</th>\n",
       "      <td>0.305732</td>\n",
       "    </tr>\n",
       "    <tr>\n",
       "      <th>13</th>\n",
       "      <td>0.095541</td>\n",
       "    </tr>\n",
       "    <tr>\n",
       "      <th>26</th>\n",
       "      <td>0.152866</td>\n",
       "    </tr>\n",
       "    <tr>\n",
       "      <th>66</th>\n",
       "      <td>0.095541</td>\n",
       "    </tr>\n",
       "    <tr>\n",
       "      <th>132</th>\n",
       "      <td>0.146497</td>\n",
       "    </tr>\n",
       "  </tbody>\n",
       "</table>\n",
       "</div>"
      ],
      "text/plain": [
       "     frequency\n",
       "3     0.203822\n",
       "6     0.305732\n",
       "13    0.095541\n",
       "26    0.152866\n",
       "66    0.095541\n",
       "132   0.146497"
      ]
     },
     "execution_count": 40,
     "metadata": {},
     "output_type": "execute_result"
    }
   ],
   "source": [
    "labels = list(label_transform.classes_)\n",
    "frequencies = y_train_binary.mean(axis=0)\n",
    "frequencies_df = pd.DataFrame(frequencies, index=labels, columns=['frequency'])\n",
    "frequencies_df"
   ]
  },
  {
   "cell_type": "code",
   "execution_count": 62,
   "metadata": {},
   "outputs": [
    {
     "data": {
      "text/html": [
       "<div>\n",
       "<style scoped>\n",
       "    .dataframe tbody tr th:only-of-type {\n",
       "        vertical-align: middle;\n",
       "    }\n",
       "\n",
       "    .dataframe tbody tr th {\n",
       "        vertical-align: top;\n",
       "    }\n",
       "\n",
       "    .dataframe thead th {\n",
       "        text-align: right;\n",
       "    }\n",
       "</style>\n",
       "<table border=\"1\" class=\"dataframe\">\n",
       "  <thead>\n",
       "    <tr style=\"text-align: right;\">\n",
       "      <th></th>\n",
       "      <th>frequency</th>\n",
       "    </tr>\n",
       "  </thead>\n",
       "  <tbody>\n",
       "    <tr>\n",
       "      <th>3</th>\n",
       "      <td>0.2450</td>\n",
       "    </tr>\n",
       "    <tr>\n",
       "      <th>6</th>\n",
       "      <td>0.2525</td>\n",
       "    </tr>\n",
       "    <tr>\n",
       "      <th>13</th>\n",
       "      <td>0.1300</td>\n",
       "    </tr>\n",
       "    <tr>\n",
       "      <th>26</th>\n",
       "      <td>0.1225</td>\n",
       "    </tr>\n",
       "    <tr>\n",
       "      <th>66</th>\n",
       "      <td>0.1200</td>\n",
       "    </tr>\n",
       "    <tr>\n",
       "      <th>132</th>\n",
       "      <td>0.1300</td>\n",
       "    </tr>\n",
       "  </tbody>\n",
       "</table>\n",
       "</div>"
      ],
      "text/plain": [
       "     frequency\n",
       "3       0.2450\n",
       "6       0.2525\n",
       "13      0.1300\n",
       "26      0.1225\n",
       "66      0.1200\n",
       "132     0.1300"
      ]
     },
     "execution_count": 62,
     "metadata": {},
     "output_type": "execute_result"
    }
   ],
   "source": [
    "labels = list(label_transform.classes_)\n",
    "frequencies = y_test_binary.mean(axis=0)\n",
    "frequencies_df = pd.DataFrame(frequencies, index=labels, columns=['frequency'])\n",
    "frequencies_df"
   ]
  },
  {
   "cell_type": "markdown",
   "metadata": {},
   "source": [
    "### Note:\n",
    "We have more data on group 2 than on group 1. And far more data for stimuli 3 than for stimuli 13 and 66 (not surprising). \n",
    "\n",
    "--> post on balancing datasets: https://towardsdatascience.com/handling-imbalanced-datasets-in-deep-learning-f48407a0e758\n",
    "\n",
    "### Needs some thinking on how to balance the data set !\n",
    "e.g. by frequency dependend selection rule, or by defining a suitied special loss function...."
   ]
  },
  {
   "cell_type": "code",
   "execution_count": 41,
   "metadata": {},
   "outputs": [],
   "source": [
    "from sklearn.utils import class_weight\n",
    "class_weight = class_weight.compute_class_weight('balanced'\n",
    "                                               ,np.unique(y_train)\n",
    "                                               ,y_train)"
   ]
  },
  {
   "cell_type": "code",
   "execution_count": 42,
   "metadata": {},
   "outputs": [
    {
     "data": {
      "text/plain": [
       "array([0.81770833, 0.54513889, 1.74444444, 1.09027778, 1.74444444,\n",
       "       1.13768116])"
      ]
     },
     "execution_count": 42,
     "metadata": {},
     "output_type": "execute_result"
    }
   ],
   "source": [
    "class_weight"
   ]
  },
  {
   "cell_type": "code",
   "execution_count": 43,
   "metadata": {},
   "outputs": [],
   "source": [
    "class_weight = {0: class_weight[0],\n",
    "               1: class_weight[1],\n",
    "               2: class_weight[2],\n",
    "               3: class_weight[3],\n",
    "               4: class_weight[4],\n",
    "               5: class_weight[5]}"
   ]
  },
  {
   "cell_type": "markdown",
   "metadata": {},
   "source": [
    "## Define model architecture"
   ]
  },
  {
   "cell_type": "code",
   "execution_count": 44,
   "metadata": {},
   "outputs": [],
   "source": [
    "import tensorflow as tf\n",
    "from tensorflow.keras import layers"
   ]
  },
  {
   "cell_type": "code",
   "execution_count": 45,
   "metadata": {},
   "outputs": [],
   "source": [
    "from tensorflow.keras.callbacks import ModelCheckpoint, EarlyStopping\n",
    "output_file = 'CNN_EEG_classifier_avg_02'\n",
    "\n",
    "checkpointer = ModelCheckpoint(filepath = PATH_MODELS + output_file + \".hdf5\", monitor='val_acc', verbose=1, save_best_only=True)\n",
    "earlystopper = EarlyStopping(monitor='val_acc', patience=5, verbose=1)"
   ]
  },
  {
   "cell_type": "code",
   "execution_count": 46,
   "metadata": {},
   "outputs": [
    {
     "name": "stdout",
     "output_type": "stream",
     "text": [
      "WARNING:tensorflow:From C:\\Users\\FlorianHuber\\Anaconda3\\envs\\mne\\lib\\site-packages\\tensorflow\\python\\ops\\resource_variable_ops.py:435: colocate_with (from tensorflow.python.framework.ops) is deprecated and will be removed in a future version.\n",
      "Instructions for updating:\n",
      "Colocations handled automatically by placer.\n",
      "WARNING:tensorflow:From C:\\Users\\FlorianHuber\\Anaconda3\\envs\\mne\\lib\\site-packages\\tensorflow\\python\\keras\\layers\\core.py:143: calling dropout (from tensorflow.python.ops.nn_ops) with keep_prob is deprecated and will be removed in a future version.\n",
      "Instructions for updating:\n",
      "Please use `rate` instead of `keep_prob`. Rate should be set to `rate = 1 - keep_prob`.\n"
     ]
    }
   ],
   "source": [
    "# Simple CNN model\n",
    "n_timesteps = 501\n",
    "n_features = 30\n",
    "n_outputs = 6\n",
    "\n",
    "model = tf.keras.Sequential()\n",
    "#model.add(layers.Conv1D(filters=32, kernel_size=20, activation='relu', input_shape=(n_timesteps,n_features)))\n",
    "model.add(layers.Conv1D(filters=32, kernel_size=20, input_shape=(n_timesteps,n_features)))\n",
    "model.add(layers.BatchNormalization())\n",
    "model.add(layers.LeakyReLU())\n",
    "model.add(layers.AveragePooling1D(pool_size=2))\n",
    "\n",
    "model.add(layers.Conv1D(filters=64, kernel_size=10)) #, activation='relu'))\n",
    "model.add(layers.BatchNormalization())\n",
    "model.add(layers.LeakyReLU())\n",
    "model.add(layers.AveragePooling1D(pool_size=2))\n",
    "\n",
    "model.add(layers.Conv1D(filters=64, kernel_size=5)) #, activation='relu'))\n",
    "model.add(layers.BatchNormalization())\n",
    "model.add(layers.LeakyReLU())\n",
    "model.add(layers.AveragePooling1D(pool_size=2))\n",
    "\n",
    "#model.add(layers.Conv1D(filters=96, kernel_size=3, activation='relu'))\n",
    "#model.add(layers.AveragePooling1D(pool_size=2))\n",
    "#model.add(layers.MaxPooling1D(pool_size=2))\n",
    "\n",
    "model.add(layers.Flatten())\n",
    "model.add(layers.Dense(80, activation='relu'))\n",
    "model.add(layers.Dropout(0.5))\n",
    "model.add(layers.Dense(n_outputs, activation='softmax'))\n",
    "#model.compile(loss='categorical_crossentropy', optimizer='adagrad', metrics=['accuracy'])\n",
    "model.compile(loss='categorical_crossentropy', optimizer='adadelta', metrics=['accuracy'])"
   ]
  },
  {
   "cell_type": "code",
   "execution_count": 47,
   "metadata": {},
   "outputs": [
    {
     "name": "stdout",
     "output_type": "stream",
     "text": [
      "_________________________________________________________________\n",
      "Layer (type)                 Output Shape              Param #   \n",
      "=================================================================\n",
      "conv1d (Conv1D)              (None, 482, 32)           19232     \n",
      "_________________________________________________________________\n",
      "batch_normalization_v1 (Batc (None, 482, 32)           128       \n",
      "_________________________________________________________________\n",
      "leaky_re_lu (LeakyReLU)      (None, 482, 32)           0         \n",
      "_________________________________________________________________\n",
      "average_pooling1d (AveragePo (None, 241, 32)           0         \n",
      "_________________________________________________________________\n",
      "conv1d_1 (Conv1D)            (None, 232, 64)           20544     \n",
      "_________________________________________________________________\n",
      "batch_normalization_v1_1 (Ba (None, 232, 64)           256       \n",
      "_________________________________________________________________\n",
      "leaky_re_lu_1 (LeakyReLU)    (None, 232, 64)           0         \n",
      "_________________________________________________________________\n",
      "average_pooling1d_1 (Average (None, 116, 64)           0         \n",
      "_________________________________________________________________\n",
      "conv1d_2 (Conv1D)            (None, 112, 64)           20544     \n",
      "_________________________________________________________________\n",
      "batch_normalization_v1_2 (Ba (None, 112, 64)           256       \n",
      "_________________________________________________________________\n",
      "leaky_re_lu_2 (LeakyReLU)    (None, 112, 64)           0         \n",
      "_________________________________________________________________\n",
      "average_pooling1d_2 (Average (None, 56, 64)            0         \n",
      "_________________________________________________________________\n",
      "flatten (Flatten)            (None, 3584)              0         \n",
      "_________________________________________________________________\n",
      "dense (Dense)                (None, 80)                286800    \n",
      "_________________________________________________________________\n",
      "dropout (Dropout)            (None, 80)                0         \n",
      "_________________________________________________________________\n",
      "dense_1 (Dense)              (None, 6)                 486       \n",
      "=================================================================\n",
      "Total params: 348,246\n",
      "Trainable params: 347,926\n",
      "Non-trainable params: 320\n",
      "_________________________________________________________________\n"
     ]
    }
   ],
   "source": [
    "model.summary()"
   ]
  },
  {
   "cell_type": "code",
   "execution_count": 48,
   "metadata": {},
   "outputs": [
    {
     "name": "stdout",
     "output_type": "stream",
     "text": [
      "Train on 1570 samples, validate on 400 samples\n",
      "WARNING:tensorflow:From C:\\Users\\FlorianHuber\\Anaconda3\\envs\\mne\\lib\\site-packages\\tensorflow\\python\\ops\\math_ops.py:3066: to_int32 (from tensorflow.python.ops.math_ops) is deprecated and will be removed in a future version.\n",
      "Instructions for updating:\n",
      "Use tf.cast instead.\n",
      "Epoch 1/50\n",
      "1568/1570 [============================>.] - ETA: 0s - loss: 1.7407 - acc: 0.3151\n",
      "Epoch 00001: val_acc improved from -inf to 0.20000, saving model to C:\\OneDrive - Netherlands eScience Center\\Project_ePodium\\trained_models\\CNN_EEG_classifier_avg_02.hdf5\n",
      "1570/1570 [==============================] - 8s 5ms/sample - loss: 1.7404 - acc: 0.3146 - val_loss: 1.7505 - val_acc: 0.2000\n",
      "Epoch 2/50\n",
      "1568/1570 [============================>.] - ETA: 0s - loss: 1.3919 - acc: 0.4062\n",
      "Epoch 00002: val_acc did not improve from 0.20000\n",
      "1570/1570 [==============================] - 7s 4ms/sample - loss: 1.3920 - acc: 0.4064 - val_loss: 1.7163 - val_acc: 0.2000\n",
      "Epoch 3/50\n",
      "1568/1570 [============================>.] - ETA: 0s - loss: 1.2415 - acc: 0.4541\n",
      "Epoch 00003: val_acc improved from 0.20000 to 0.34500, saving model to C:\\OneDrive - Netherlands eScience Center\\Project_ePodium\\trained_models\\CNN_EEG_classifier_avg_02.hdf5\n",
      "1570/1570 [==============================] - 7s 5ms/sample - loss: 1.2408 - acc: 0.4548 - val_loss: 1.4838 - val_acc: 0.3450\n",
      "Epoch 4/50\n",
      "1568/1570 [============================>.] - ETA: 0s - loss: 1.0887 - acc: 0.5083\n",
      "Epoch 00004: val_acc did not improve from 0.34500\n",
      "1570/1570 [==============================] - 7s 5ms/sample - loss: 1.0894 - acc: 0.5083 - val_loss: 1.5897 - val_acc: 0.2850\n",
      "Epoch 5/50\n",
      "1568/1570 [============================>.] - ETA: 0s - loss: 1.0416 - acc: 0.5019\n",
      "Epoch 00005: val_acc did not improve from 0.34500\n",
      "1570/1570 [==============================] - 8s 5ms/sample - loss: 1.0432 - acc: 0.5013 - val_loss: 1.4687 - val_acc: 0.2925\n",
      "Epoch 6/50\n",
      "1568/1570 [============================>.] - ETA: 0s - loss: 0.9592 - acc: 0.5306\n",
      "Epoch 00006: val_acc improved from 0.34500 to 0.35750, saving model to C:\\OneDrive - Netherlands eScience Center\\Project_ePodium\\trained_models\\CNN_EEG_classifier_avg_02.hdf5\n",
      "1570/1570 [==============================] - 8s 5ms/sample - loss: 0.9590 - acc: 0.5306 - val_loss: 1.4408 - val_acc: 0.3575\n",
      "Epoch 7/50\n",
      "1568/1570 [============================>.] - ETA: 0s - loss: 0.9151 - acc: 0.5702\n",
      "Epoch 00007: val_acc did not improve from 0.35750\n",
      "1570/1570 [==============================] - 8s 5ms/sample - loss: 0.9140 - acc: 0.5707 - val_loss: 1.4162 - val_acc: 0.3275\n",
      "Epoch 8/50\n",
      "1568/1570 [============================>.] - ETA: 0s - loss: 0.8499 - acc: 0.5848\n",
      "Epoch 00008: val_acc improved from 0.35750 to 0.36500, saving model to C:\\OneDrive - Netherlands eScience Center\\Project_ePodium\\trained_models\\CNN_EEG_classifier_avg_02.hdf5\n",
      "1570/1570 [==============================] - 8s 5ms/sample - loss: 0.8508 - acc: 0.5841 - val_loss: 1.4780 - val_acc: 0.3650\n",
      "Epoch 9/50\n",
      "1568/1570 [============================>.] - ETA: 0s - loss: 0.8306 - acc: 0.5931\n",
      "Epoch 00009: val_acc did not improve from 0.36500\n",
      "1570/1570 [==============================] - 8s 5ms/sample - loss: 0.8306 - acc: 0.5930 - val_loss: 2.2159 - val_acc: 0.3275\n",
      "Epoch 10/50\n",
      "1568/1570 [============================>.] - ETA: 0s - loss: 0.8504 - acc: 0.5918\n",
      "Epoch 00010: val_acc did not improve from 0.36500\n",
      "1570/1570 [==============================] - 8s 5ms/sample - loss: 0.8502 - acc: 0.5917 - val_loss: 1.7476 - val_acc: 0.3450\n",
      "Epoch 11/50\n",
      "1568/1570 [============================>.] - ETA: 0s - loss: 0.7654 - acc: 0.6371\n",
      "Epoch 00011: val_acc improved from 0.36500 to 0.38250, saving model to C:\\OneDrive - Netherlands eScience Center\\Project_ePodium\\trained_models\\CNN_EEG_classifier_avg_02.hdf5\n",
      "1570/1570 [==============================] - 8s 5ms/sample - loss: 0.7659 - acc: 0.6369 - val_loss: 2.0038 - val_acc: 0.3825\n",
      "Epoch 12/50\n",
      "1568/1570 [============================>.] - ETA: 0s - loss: 0.7243 - acc: 0.6435\n",
      "Epoch 00012: val_acc did not improve from 0.38250\n",
      "1570/1570 [==============================] - 9s 6ms/sample - loss: 0.7256 - acc: 0.6433 - val_loss: 2.0769 - val_acc: 0.3700\n",
      "Epoch 13/50\n",
      "1568/1570 [============================>.] - ETA: 0s - loss: 0.7165 - acc: 0.6505\n",
      "Epoch 00013: val_acc did not improve from 0.38250\n",
      "1570/1570 [==============================] - 9s 6ms/sample - loss: 0.7156 - acc: 0.6510 - val_loss: 1.8672 - val_acc: 0.3450\n",
      "Epoch 14/50\n",
      "1568/1570 [============================>.] - ETA: 0s - loss: 0.6744 - acc: 0.6658\n",
      "Epoch 00014: val_acc did not improve from 0.38250\n",
      "1570/1570 [==============================] - 9s 6ms/sample - loss: 0.6745 - acc: 0.6656 - val_loss: 2.1610 - val_acc: 0.3125\n",
      "Epoch 15/50\n",
      "1568/1570 [============================>.] - ETA: 0s - loss: 0.6478 - acc: 0.6645\n",
      "Epoch 00015: val_acc did not improve from 0.38250\n",
      "1570/1570 [==============================] - 9s 6ms/sample - loss: 0.6487 - acc: 0.6637 - val_loss: 2.3274 - val_acc: 0.3450\n",
      "Epoch 16/50\n",
      "1568/1570 [============================>.] - ETA: 0s - loss: 0.6337 - acc: 0.6735\n",
      "Epoch 00016: val_acc did not improve from 0.38250\n",
      "1570/1570 [==============================] - 9s 6ms/sample - loss: 0.6344 - acc: 0.6732 - val_loss: 2.3489 - val_acc: 0.3350\n",
      "Epoch 00016: early stopping\n"
     ]
    },
    {
     "data": {
      "text/plain": [
       "<tensorflow.python.keras.callbacks.History at 0x21228902da0>"
      ]
     },
     "execution_count": 48,
     "metadata": {},
     "output_type": "execute_result"
    }
   ],
   "source": [
    "epochs = 50\n",
    "batch_size = 32\n",
    "\n",
    "# fit network\n",
    "model.fit(np.swapaxes(X_train,1,2), \n",
    "          y_train_binary, \n",
    "          validation_data=(np.swapaxes(X_val,1,2), y_val_binary), \n",
    "          epochs=epochs, \n",
    "          batch_size=batch_size,\n",
    "          class_weight = class_weight,\n",
    "          callbacks = [checkpointer, earlystopper])"
   ]
  },
  {
   "cell_type": "markdown",
   "metadata": {},
   "source": [
    "## Seems to overfit on the training data and not be able to predict well the validation data"
   ]
  },
  {
   "cell_type": "code",
   "execution_count": 49,
   "metadata": {},
   "outputs": [],
   "source": [
    "# Evaluate the model\n",
    "_, train_acc = model.evaluate(np.swapaxes(X_train,1,2), y_train_binary, verbose=0)\n",
    "_, test_acc = model.evaluate(np.swapaxes(X_test,1,2), y_test_binary, verbose=0)"
   ]
  },
  {
   "cell_type": "code",
   "execution_count": 50,
   "metadata": {},
   "outputs": [
    {
     "name": "stdout",
     "output_type": "stream",
     "text": [
      "Accuracy on train dataset: 0.75605094\n",
      "Accuracy on test dataset: 0.35\n"
     ]
    }
   ],
   "source": [
    "print(\"Accuracy on train dataset:\", train_acc)\n",
    "print(\"Accuracy on test dataset:\", test_acc)"
   ]
  },
  {
   "cell_type": "code",
   "execution_count": 51,
   "metadata": {},
   "outputs": [],
   "source": [
    "Xtest = np.swapaxes(X_test,1,2)\n",
    "\n",
    "# Check model predictions:\n",
    "y_pred_proba = model.predict_proba(Xtest)\n",
    "y_pred_classes = model.predict_classes(Xtest)"
   ]
  },
  {
   "cell_type": "code",
   "execution_count": 67,
   "metadata": {},
   "outputs": [
    {
     "name": "stdout",
     "output_type": "stream",
     "text": [
      "[0 5 0 1 0 1 3 5 0 1 0 4 0 2 3 1 5 1 2 0 2 1 2 0 3 0 3 2 3 4]\n",
      "[0 2 0 1 0 1 2 3 1 0 0 4 0 0 5 1 2 0 3 0 5 0 0 0 5 1 3 3 2 2]\n"
     ]
    }
   ],
   "source": [
    "y_test_05 = np.array(y_test.copy())\n",
    "y_test_05[y_test_05 == 3] = 0\n",
    "y_test_05[y_test_05 == 6] = 1\n",
    "y_test_05[y_test_05 == 13] = 2\n",
    "y_test_05[y_test_05 == 26] = 3\n",
    "y_test_05[y_test_05 == 66] = 4\n",
    "y_test_05[y_test_05 == 132] = 5\n",
    "\n",
    "print(y_test_05[:30].astype(int))\n",
    "print(y_pred_classes[:30])"
   ]
  },
  {
   "cell_type": "code",
   "execution_count": 68,
   "metadata": {},
   "outputs": [
    {
     "name": "stdout",
     "output_type": "stream",
     "text": [
      "0.35\n"
     ]
    }
   ],
   "source": [
    "# Calculate accuracy\n",
    "from sklearn import metrics\n",
    "print(metrics.accuracy_score(y_test_05, y_pred_classes))"
   ]
  },
  {
   "cell_type": "markdown",
   "metadata": {},
   "source": [
    "## Check if groups are predicted correctly:"
   ]
  },
  {
   "cell_type": "code",
   "execution_count": 54,
   "metadata": {},
   "outputs": [
    {
     "name": "stdout",
     "output_type": "stream",
     "text": [
      "[1 2 1 2 1 2 2 2 1 2 1 1 1 1 2 2 2 2 1 1 1 2 1 1 2 1 2 1 2 1]\n",
      "[1 2 1 2 1 2 2 2 2 1 1 2 1 1 2 2 2 1 2 1 2 1 1 1 2 2 2 2 2 2]\n"
     ]
    }
   ],
   "source": [
    "y_test_12 = np.array(y_test.copy())\n",
    "y_test_12[y_test_12 == 132] = 2\n",
    "y_test_12[y_test_12 == 66] = 1\n",
    "y_test_12[y_test_12 == 26] = 2\n",
    "y_test_12[y_test_12 == 13] = 1\n",
    "y_test_12[y_test_12 == 6] = 2\n",
    "y_test_12[y_test_12 == 3] = 1\n",
    "\n",
    "y_pred_12 = y_pred_classes.copy()\n",
    "y_pred_12[(y_pred_12 == 4) | (y_pred_12 == 2) | (y_pred_12 == 0)] = 6\n",
    "y_pred_12[(y_pred_12 == 5) | (y_pred_12 == 3) | (y_pred_12 == 1)] = 2\n",
    "y_pred_12[y_pred_12 == 6] = 1\n",
    "\n",
    "print(y_test_12[:30].astype(int))\n",
    "print(y_pred_12[:30])"
   ]
  },
  {
   "cell_type": "code",
   "execution_count": 55,
   "metadata": {},
   "outputs": [
    {
     "data": {
      "text/plain": [
       "0.4925"
      ]
     },
     "execution_count": 55,
     "metadata": {},
     "output_type": "execute_result"
    }
   ],
   "source": [
    "np.sum(y_test_12 == y_pred_12)/ y_pred_12.shape[0]"
   ]
  },
  {
   "cell_type": "markdown",
   "metadata": {},
   "source": [
    "## Observation:\n",
    "So far this is not working as a proper discriminator between group1 and group2!  \n",
    "The test dataset contains about equal amounts of data from both groups, and the model does do better than random guessing (50% hits)."
   ]
  },
  {
   "cell_type": "code",
   "execution_count": 69,
   "metadata": {},
   "outputs": [
    {
     "data": {
      "text/plain": [
       "array([[57, 39,  0,  1,  1,  0],\n",
       "       [57, 33,  2,  1,  3,  5],\n",
       "       [ 5,  1,  6, 20, 12,  8],\n",
       "       [ 8,  4, 12, 12,  3, 10],\n",
       "       [ 1,  0, 13,  4,  7, 23],\n",
       "       [ 3,  0, 12,  5,  7, 25]], dtype=int64)"
      ]
     },
     "execution_count": 69,
     "metadata": {},
     "output_type": "execute_result"
    }
   ],
   "source": [
    "# Confusion matrix:\n",
    "M_confusion = metrics.confusion_matrix(y_test_05, y_pred_classes)\n",
    "M_confusion"
   ]
  },
  {
   "cell_type": "code",
   "execution_count": 80,
   "metadata": {},
   "outputs": [],
   "source": [
    "def plot_confusion_matrix(y_true, y_pred, classes,\n",
    "                          normalize=False,\n",
    "                          title=None,\n",
    "                          cmap=plt.cm.Blues):\n",
    "    \"\"\"\n",
    "    This function prints and plots the confusion matrix.\n",
    "    Normalization can be applied by setting `normalize=True`.\n",
    "    \"\"\"\n",
    "    from sklearn.utils.multiclass import unique_labels\n",
    "    \n",
    "    if not title:\n",
    "        if normalize:\n",
    "            title = 'Normalized confusion matrix'\n",
    "        else:\n",
    "            title = 'Confusion matrix, without normalization'\n",
    "\n",
    "    # Compute confusion matrix\n",
    "    cm = metrics.confusion_matrix(y_true, y_pred)\n",
    "    ## Only use the labels that appear in the data\n",
    "    #classes = classes[unique_labels(y_true, y_pred)]\n",
    "    if normalize:\n",
    "        cm = cm.astype('float') / cm.sum(axis=1)[:, np.newaxis]\n",
    "        print(\"Normalized confusion matrix\")\n",
    "    else:\n",
    "        print('Confusion matrix, without normalization')\n",
    "\n",
    "    print(cm)\n",
    "\n",
    "    fig, ax = plt.subplots()\n",
    "    im = ax.imshow(cm, interpolation='nearest', cmap=cmap)\n",
    "    ax.figure.colorbar(im, ax=ax)\n",
    "    # We want to show all ticks...\n",
    "    ax.set(xticks=np.arange(cm.shape[1]),\n",
    "           yticks=np.arange(cm.shape[0]),\n",
    "           # ... and label them with the respective list entries\n",
    "           xticklabels=classes, yticklabels=classes,\n",
    "           title=title,\n",
    "           ylabel='True label',\n",
    "           xlabel='Predicted label')\n",
    "\n",
    "    # Rotate the tick labels and set their alignment.\n",
    "    plt.setp(ax.get_xticklabels(), rotation=45, ha=\"right\",\n",
    "             rotation_mode=\"anchor\")\n",
    "\n",
    "    # Loop over data dimensions and create text annotations.\n",
    "    fmt = '.2f' if normalize else 'd'\n",
    "    thresh = cm.max() / 2.\n",
    "    for i in range(cm.shape[0]):\n",
    "        for j in range(cm.shape[1]):\n",
    "            ax.text(j, i, format(cm[i, j], fmt),\n",
    "                    ha=\"center\", va=\"center\",\n",
    "                    color=\"white\" if cm[i, j] > thresh else \"black\")\n",
    "    fig.tight_layout()\n",
    "    return ax"
   ]
  },
  {
   "cell_type": "code",
   "execution_count": 84,
   "metadata": {},
   "outputs": [
    {
     "name": "stdout",
     "output_type": "stream",
     "text": [
      "Normalized confusion matrix\n",
      "[[0.58163265 0.39795918 0.         0.01020408 0.01020408 0.        ]\n",
      " [0.56435644 0.32673267 0.01980198 0.00990099 0.02970297 0.04950495]\n",
      " [0.09615385 0.01923077 0.11538462 0.38461538 0.23076923 0.15384615]\n",
      " [0.16326531 0.08163265 0.24489796 0.24489796 0.06122449 0.20408163]\n",
      " [0.02083333 0.         0.27083333 0.08333333 0.14583333 0.47916667]\n",
      " [0.05769231 0.         0.23076923 0.09615385 0.13461538 0.48076923]]\n"
     ]
    },
    {
     "data": {
      "image/png": "[encoded data removed]",
      "text/plain": [
       "<Figure size 432x288 with 2 Axes>"
      ]
     },
     "metadata": {
      "needs_background": "light"
     },
     "output_type": "display_data"
    }
   ],
   "source": [
    "# Plot normalized confusion matrix\n",
    "labels = list(label_transform.classes_)\n",
    "\n",
    "plot_confusion_matrix(y_test_05, y_pred_classes, classes=labels, normalize=True,\n",
    "                      title='Normalized confusion matrix')\n",
    "\n",
    "plt.savefig('confusion_matrix.pdf')"
   ]
  },
  {
   "cell_type": "markdown",
   "metadata": {},
   "source": [
    "### Interestingly, it might be that the model at least does see a difference between the types of stimuli!"
   ]
  },
  {
   "cell_type": "code",
   "execution_count": 71,
   "metadata": {},
   "outputs": [
    {
     "name": "stdout",
     "output_type": "stream",
     "text": [
      "[1 2 1 1 1 1 2 2 1 1 1 2 1 2 2 1 2 1 2 1 2 1 2 1 2 1 2 2 2 2]\n",
      "[1 2 1 1 1 1 2 2 1 1 1 2 1 1 2 1 2 1 2 1 2 1 1 1 2 1 2 2 2 2]\n"
     ]
    }
   ],
   "source": [
    "y_test_bak_dak = np.array(y_test.copy())\n",
    "y_test_bak_dak[y_test_bak_dak == 132] = 2\n",
    "y_test_bak_dak[y_test_bak_dak == 66] = 2\n",
    "y_test_bak_dak[y_test_bak_dak == 26] = 2\n",
    "y_test_bak_dak[y_test_bak_dak == 13] = 2\n",
    "y_test_bak_dak[y_test_bak_dak == 6] = 1\n",
    "y_test_bak_dak[y_test_bak_dak == 3] = 1\n",
    "\n",
    "y_pred_bak_dak = y_pred_classes.copy()\n",
    "y_pred_bak_dak[y_pred_bak_dak == 2] = 2\n",
    "y_pred_bak_dak[y_pred_bak_dak == 5] = 2\n",
    "y_pred_bak_dak[y_pred_bak_dak == 4] = 2\n",
    "y_pred_bak_dak[y_pred_bak_dak == 3] = 2\n",
    "y_pred_bak_dak[y_pred_bak_dak == 1] = 1\n",
    "y_pred_bak_dak[y_pred_bak_dak == 0] = 1\n",
    "\n",
    "print(y_test_bak_dak[:30].astype(int))\n",
    "print(y_pred_bak_dak[:30])"
   ]
  },
  {
   "cell_type": "code",
   "execution_count": 72,
   "metadata": {},
   "outputs": [
    {
     "data": {
      "text/plain": [
       "0.9125"
      ]
     },
     "execution_count": 72,
     "metadata": {},
     "output_type": "execute_result"
    }
   ],
   "source": [
    "np.sum(y_test_bak_dak == y_pred_bak_dak)/ y_pred_bak_dak.shape[0]"
   ]
  },
  {
   "cell_type": "markdown",
   "metadata": {},
   "source": [
    "## Interestingly though,...\n",
    "That would mean that the model is correct in >95% of all cases in distinguishing 'bak' from 'dak'.  \n",
    "--> **Careful: Needs to be checked if my assumptions about the stimuli are correct...**"
   ]
  },
  {
   "cell_type": "markdown",
   "metadata": {},
   "source": [
    "# 2. Alternative model architecture\n",
    "+ Compression in time axis only after 3 convolutional steps\n",
    "+ Contains batchNormalization layers"
   ]
  },
  {
   "cell_type": "code",
   "execution_count": 85,
   "metadata": {},
   "outputs": [],
   "source": [
    "from tensorflow.keras.callbacks import ModelCheckpoint, EarlyStopping\n",
    "output_file = 'CNN_EEG_classifier_avg_03'\n",
    "\n",
    "checkpointer = ModelCheckpoint(filepath = PATH_MODELS + output_file + \".hdf5\", monitor='val_acc', verbose=1, save_best_only=True)\n",
    "earlystopper = EarlyStopping(monitor='val_acc', patience=5, verbose=1)"
   ]
  },
  {
   "cell_type": "code",
   "execution_count": 86,
   "metadata": {},
   "outputs": [],
   "source": [
    "# Simple CNN model\n",
    "n_timesteps = 501\n",
    "n_features = 30\n",
    "n_outputs = 6\n",
    "\n",
    "model = tf.keras.Sequential()\n",
    "#model.add(layers.Conv1D(filters=32, kernel_size=20, activation='relu', input_shape=(n_timesteps,n_features)))\n",
    "model.add(layers.Conv1D(filters=32, kernel_size=20, input_shape=(n_timesteps,n_features)))\n",
    "model.add(layers.BatchNormalization())\n",
    "model.add(layers.LeakyReLU())\n",
    "\n",
    "model.add(layers.Conv1D(filters=64, kernel_size=10)) #, activation='relu'))\n",
    "model.add(layers.BatchNormalization())\n",
    "model.add(layers.LeakyReLU())\n",
    "\n",
    "model.add(layers.Conv1D(filters=32, kernel_size=5)) #, activation='relu'))\n",
    "model.add(layers.BatchNormalization())\n",
    "model.add(layers.LeakyReLU())\n",
    "model.add(layers.AveragePooling1D(pool_size=4))\n",
    "\n",
    "model.add(layers.Flatten())\n",
    "model.add(layers.Dense(100, activation='relu'))\n",
    "model.add(layers.Dropout(0.5))\n",
    "model.add(layers.Dense(n_outputs, activation='softmax'))\n",
    "model.compile(loss='categorical_crossentropy', optimizer='adagrad', metrics=['accuracy'])\n",
    "#model.compile(loss='categorical_crossentropy', optimizer='adam', metrics=['accuracy'])"
   ]
  },
  {
   "cell_type": "code",
   "execution_count": 87,
   "metadata": {},
   "outputs": [
    {
     "name": "stdout",
     "output_type": "stream",
     "text": [
      "_________________________________________________________________\n",
      "Layer (type)                 Output Shape              Param #   \n",
      "=================================================================\n",
      "conv1d_3 (Conv1D)            (None, 482, 32)           19232     \n",
      "_________________________________________________________________\n",
      "batch_normalization_v1_3 (Ba (None, 482, 32)           128       \n",
      "_________________________________________________________________\n",
      "leaky_re_lu_3 (LeakyReLU)    (None, 482, 32)           0         \n",
      "_________________________________________________________________\n",
      "conv1d_4 (Conv1D)            (None, 473, 64)           20544     \n",
      "_________________________________________________________________\n",
      "batch_normalization_v1_4 (Ba (None, 473, 64)           256       \n",
      "_________________________________________________________________\n",
      "leaky_re_lu_4 (LeakyReLU)    (None, 473, 64)           0         \n",
      "_________________________________________________________________\n",
      "conv1d_5 (Conv1D)            (None, 469, 32)           10272     \n",
      "_________________________________________________________________\n",
      "batch_normalization_v1_5 (Ba (None, 469, 32)           128       \n",
      "_________________________________________________________________\n",
      "leaky_re_lu_5 (LeakyReLU)    (None, 469, 32)           0         \n",
      "_________________________________________________________________\n",
      "average_pooling1d_3 (Average (None, 117, 32)           0         \n",
      "_________________________________________________________________\n",
      "flatten_1 (Flatten)          (None, 3744)              0         \n",
      "_________________________________________________________________\n",
      "dense_2 (Dense)              (None, 100)               374500    \n",
      "_________________________________________________________________\n",
      "dropout_1 (Dropout)          (None, 100)               0         \n",
      "_________________________________________________________________\n",
      "dense_3 (Dense)              (None, 6)                 606       \n",
      "=================================================================\n",
      "Total params: 425,666\n",
      "Trainable params: 425,410\n",
      "Non-trainable params: 256\n",
      "_________________________________________________________________\n"
     ]
    }
   ],
   "source": [
    "model.summary()"
   ]
  },
  {
   "cell_type": "code",
   "execution_count": 88,
   "metadata": {},
   "outputs": [
    {
     "name": "stdout",
     "output_type": "stream",
     "text": [
      "Train on 1570 samples, validate on 400 samples\n",
      "Epoch 1/50\n",
      "1568/1570 [============================>.] - ETA: 0s - loss: 2.4284 - acc: 0.2526\n",
      "Epoch 00001: val_acc improved from -inf to 0.28000, saving model to C:\\OneDrive - Netherlands eScience Center\\Project_ePodium\\trained_models\\CNN_EEG_classifier_avg_03.hdf5\n",
      "1570/1570 [==============================] - 11s 7ms/sample - loss: 2.4266 - acc: 0.2529 - val_loss: 1.6462 - val_acc: 0.2800\n",
      "Epoch 2/50\n",
      "1568/1570 [============================>.] - ETA: 0s - loss: 1.5319 - acc: 0.3571\n",
      "Epoch 00002: val_acc improved from 0.28000 to 0.31500, saving model to C:\\OneDrive - Netherlands eScience Center\\Project_ePodium\\trained_models\\CNN_EEG_classifier_avg_03.hdf5\n",
      "1570/1570 [==============================] - 9s 6ms/sample - loss: 1.5322 - acc: 0.3573 - val_loss: 1.6122 - val_acc: 0.3150\n",
      "Epoch 3/50\n",
      "1568/1570 [============================>.] - ETA: 0s - loss: 1.3472 - acc: 0.4037- ETA: 2s - loss: 1.362\n",
      "Epoch 00003: val_acc did not improve from 0.31500\n",
      "1570/1570 [==============================] - 10s 6ms/sample - loss: 1.3477 - acc: 0.4032 - val_loss: 1.5866 - val_acc: 0.2700\n",
      "Epoch 4/50\n",
      "1568/1570 [============================>.] - ETA: 0s - loss: 1.2731 - acc: 0.4356\n",
      "Epoch 00004: val_acc improved from 0.31500 to 0.36500, saving model to C:\\OneDrive - Netherlands eScience Center\\Project_ePodium\\trained_models\\CNN_EEG_classifier_avg_03.hdf5\n",
      "1570/1570 [==============================] - 11s 7ms/sample - loss: 1.2732 - acc: 0.4357 - val_loss: 1.4765 - val_acc: 0.3650\n",
      "Epoch 5/50\n",
      "1568/1570 [============================>.] - ETA: 0s - loss: 1.2246 - acc: 0.4349\n",
      "Epoch 00005: val_acc did not improve from 0.36500\n",
      "1570/1570 [==============================] - 11s 7ms/sample - loss: 1.2242 - acc: 0.4350 - val_loss: 1.3904 - val_acc: 0.3550\n",
      "Epoch 6/50\n",
      "1568/1570 [============================>.] - ETA: 0s - loss: 1.1266 - acc: 0.4630\n",
      "Epoch 00006: val_acc did not improve from 0.36500\n",
      "1570/1570 [==============================] - 13s 8ms/sample - loss: 1.1289 - acc: 0.4624 - val_loss: 1.4084 - val_acc: 0.3250\n",
      "Epoch 7/50\n",
      "1568/1570 [============================>.] - ETA: 0s - loss: 1.1087 - acc: 0.4643\n",
      "Epoch 00007: val_acc improved from 0.36500 to 0.38500, saving model to C:\\OneDrive - Netherlands eScience Center\\Project_ePodium\\trained_models\\CNN_EEG_classifier_avg_03.hdf5\n",
      "1570/1570 [==============================] - 12s 8ms/sample - loss: 1.1086 - acc: 0.4650 - val_loss: 1.3403 - val_acc: 0.3850\n",
      "Epoch 8/50\n",
      "1568/1570 [============================>.] - ETA: 0s - loss: 1.0840 - acc: 0.4713\n",
      "Epoch 00008: val_acc did not improve from 0.38500\n",
      "1570/1570 [==============================] - 12s 8ms/sample - loss: 1.0871 - acc: 0.4713 - val_loss: 1.5891 - val_acc: 0.3400\n",
      "Epoch 9/50\n",
      "1568/1570 [============================>.] - ETA: 0s - loss: 1.1173 - acc: 0.4452\n",
      "Epoch 00009: val_acc improved from 0.38500 to 0.39250, saving model to C:\\OneDrive - Netherlands eScience Center\\Project_ePodium\\trained_models\\CNN_EEG_classifier_avg_03.hdf5\n",
      "1570/1570 [==============================] - 13s 8ms/sample - loss: 1.1172 - acc: 0.4452 - val_loss: 1.3117 - val_acc: 0.3925\n",
      "Epoch 10/50\n",
      "1568/1570 [============================>.] - ETA: 0s - loss: 1.0105 - acc: 0.4892\n",
      "Epoch 00010: val_acc improved from 0.39250 to 0.39500, saving model to C:\\OneDrive - Netherlands eScience Center\\Project_ePodium\\trained_models\\CNN_EEG_classifier_avg_03.hdf5\n",
      "1570/1570 [==============================] - 12s 8ms/sample - loss: 1.0100 - acc: 0.4892 - val_loss: 1.2898 - val_acc: 0.3950\n",
      "Epoch 11/50\n",
      "1568/1570 [============================>.] - ETA: 0s - loss: 0.9689 - acc: 0.5057\n",
      "Epoch 00011: val_acc did not improve from 0.39500\n",
      "1570/1570 [==============================] - 13s 8ms/sample - loss: 0.9691 - acc: 0.5057 - val_loss: 1.4349 - val_acc: 0.3950\n",
      "Epoch 12/50\n",
      "1568/1570 [============================>.] - ETA: 0s - loss: 0.9588 - acc: 0.5038\n",
      "Epoch 00012: val_acc improved from 0.39500 to 0.44250, saving model to C:\\OneDrive - Netherlands eScience Center\\Project_ePodium\\trained_models\\CNN_EEG_classifier_avg_03.hdf5\n",
      "1570/1570 [==============================] - 13s 8ms/sample - loss: 0.9589 - acc: 0.5032 - val_loss: 1.5581 - val_acc: 0.4425\n",
      "Epoch 13/50\n",
      "1568/1570 [============================>.] - ETA: 0s - loss: 0.9124 - acc: 0.5172\n",
      "Epoch 00013: val_acc did not improve from 0.44250\n",
      "1570/1570 [==============================] - 13s 8ms/sample - loss: 0.9117 - acc: 0.5172 - val_loss: 1.3457 - val_acc: 0.3800\n",
      "Epoch 14/50\n",
      "1568/1570 [============================>.] - ETA: 0s - loss: 0.8909 - acc: 0.5274\n",
      "Epoch 00014: val_acc did not improve from 0.44250\n",
      "1570/1570 [==============================] - 13s 8ms/sample - loss: 0.8907 - acc: 0.5280 - val_loss: 1.3348 - val_acc: 0.4000\n",
      "Epoch 15/50\n",
      "1568/1570 [============================>.] - ETA: 0s - loss: 0.8991 - acc: 0.5344\n",
      "Epoch 00015: val_acc did not improve from 0.44250\n",
      "1570/1570 [==============================] - 13s 8ms/sample - loss: 0.8986 - acc: 0.5344 - val_loss: 1.3935 - val_acc: 0.3575\n",
      "Epoch 16/50\n",
      "1568/1570 [============================>.] - ETA: 0s - loss: 0.8464 - acc: 0.5300\n",
      "Epoch 00016: val_acc did not improve from 0.44250\n",
      "1570/1570 [==============================] - 12s 8ms/sample - loss: 0.8472 - acc: 0.5299 - val_loss: 1.4040 - val_acc: 0.3325\n",
      "Epoch 17/50\n",
      "1568/1570 [============================>.] - ETA: 0s - loss: 0.8579 - acc: 0.5491\n",
      "Epoch 00017: val_acc did not improve from 0.44250\n",
      "1570/1570 [==============================] - 13s 8ms/sample - loss: 0.8574 - acc: 0.5497 - val_loss: 1.4090 - val_acc: 0.3900\n",
      "Epoch 00017: early stopping\n"
     ]
    },
    {
     "data": {
      "text/plain": [
       "<tensorflow.python.keras.callbacks.History at 0x21246a4b550>"
      ]
     },
     "execution_count": 88,
     "metadata": {},
     "output_type": "execute_result"
    }
   ],
   "source": [
    "epochs = 50\n",
    "batch_size = 32\n",
    "\n",
    "# fit network\n",
    "model.fit(np.swapaxes(X_train,1,2), \n",
    "          y_train_binary, \n",
    "          validation_data=(np.swapaxes(X_val,1,2), y_val_binary), \n",
    "          epochs=epochs, \n",
    "          batch_size=batch_size,\n",
    "          class_weight = class_weight,\n",
    "          callbacks = [checkpointer, earlystopper])"
   ]
  },
  {
   "cell_type": "markdown",
   "metadata": {},
   "source": [
    "## Seems to overfit on the training data and not be able to predict well the validation data"
   ]
  },
  {
   "cell_type": "code",
   "execution_count": 89,
   "metadata": {},
   "outputs": [],
   "source": [
    "# Evaluate the model\n",
    "_, train_acc = model.evaluate(np.swapaxes(X_train,1,2), y_train_binary, verbose=0)\n",
    "_, test_acc = model.evaluate(np.swapaxes(X_test,1,2), y_test_binary, verbose=0)"
   ]
  },
  {
   "cell_type": "code",
   "execution_count": 90,
   "metadata": {},
   "outputs": [
    {
     "name": "stdout",
     "output_type": "stream",
     "text": [
      "Accuracy on train dataset: 0.61910826\n",
      "Accuracy on test dataset: 0.365\n"
     ]
    }
   ],
   "source": [
    "print(\"Accuracy on train dataset:\", train_acc)\n",
    "print(\"Accuracy on test dataset:\", test_acc)"
   ]
  },
  {
   "cell_type": "code",
   "execution_count": 91,
   "metadata": {},
   "outputs": [],
   "source": [
    "Xtest = np.swapaxes(X_test,1,2)\n",
    "\n",
    "# Check model predictions:\n",
    "y_pred_proba = model.predict_proba(Xtest)\n",
    "y_pred_classes = model.predict_classes(Xtest)"
   ]
  },
  {
   "cell_type": "code",
   "execution_count": 93,
   "metadata": {},
   "outputs": [
    {
     "name": "stdout",
     "output_type": "stream",
     "text": [
      "[0 5 0 1 0 1 3 5 0 1 0 4 0 2 3 1 5 1 2 0]\n",
      "[1 2 2 2 1 1 2 2 0 0 0 1 1 2 5 0 2 0 3 0]\n"
     ]
    }
   ],
   "source": [
    "y_test_05 = np.array(y_test.copy())\n",
    "y_test_05[y_test_05 == 3] = 0\n",
    "y_test_05[y_test_05 == 6] = 1\n",
    "y_test_05[y_test_05 == 13] = 2\n",
    "y_test_05[y_test_05 == 26] = 3\n",
    "y_test_05[y_test_05 == 66] = 4\n",
    "y_test_05[y_test_05 == 132] = 5\n",
    "\n",
    "print(y_test_05[:20].astype(int))\n",
    "print(y_pred_classes[:20])"
   ]
  },
  {
   "cell_type": "code",
   "execution_count": 94,
   "metadata": {},
   "outputs": [
    {
     "name": "stdout",
     "output_type": "stream",
     "text": [
      "0.365\n"
     ]
    }
   ],
   "source": [
    "# Calculate accuracy\n",
    "from sklearn import metrics\n",
    "print(metrics.accuracy_score(y_test_05, y_pred_classes))"
   ]
  },
  {
   "cell_type": "markdown",
   "metadata": {},
   "source": [
    "## Check if groups are predicted correctly:"
   ]
  },
  {
   "cell_type": "code",
   "execution_count": 98,
   "metadata": {},
   "outputs": [
    {
     "name": "stdout",
     "output_type": "stream",
     "text": [
      "[1 2 1 2 1 2 2 2 1 2 1 1 1 1 2 2 2 2 1 1 1 2 1 1 2 1 2 1 2 1]\n",
      "[2 1 1 1 2 2 1 1 1 1 1 2 2 1 2 1 1 1 2 1 1 1 2 1 1 2 1 2 1 1]\n"
     ]
    }
   ],
   "source": [
    "y_test_12 = np.array(y_test.copy())\n",
    "y_test_12[y_test_12 == 132] = 2\n",
    "y_test_12[y_test_12 == 66] = 1\n",
    "y_test_12[y_test_12 == 26] = 2\n",
    "y_test_12[y_test_12 == 13] = 1\n",
    "y_test_12[y_test_12 == 6] = 2\n",
    "y_test_12[y_test_12 == 3] = 1\n",
    "\n",
    "y_pred_12 = y_pred_classes.copy()\n",
    "y_pred_12[(y_pred_12 == 4) | (y_pred_12 == 2) | (y_pred_12 == 0)] = 6\n",
    "y_pred_12[(y_pred_12 == 5) | (y_pred_12 == 3) | (y_pred_12 == 1)] = 2\n",
    "y_pred_12[y_pred_12 == 6] = 1\n",
    "\n",
    "print(y_test_12[:30].astype(int))\n",
    "print(y_pred_12[:30])"
   ]
  },
  {
   "cell_type": "code",
   "execution_count": 99,
   "metadata": {},
   "outputs": [
    {
     "data": {
      "text/plain": [
       "0.4875"
      ]
     },
     "execution_count": 99,
     "metadata": {},
     "output_type": "execute_result"
    }
   ],
   "source": [
    "np.sum(y_test_12 == y_pred_12)/ y_pred_12.shape[0]"
   ]
  },
  {
   "cell_type": "code",
   "execution_count": 109,
   "metadata": {},
   "outputs": [
    {
     "name": "stdout",
     "output_type": "stream",
     "text": [
      "Normalized confusion matrix\n",
      "[[0.58080808 0.41919192]\n",
      " [0.6039604  0.3960396 ]]\n"
     ]
    },
    {
     "data": {
      "image/png": "[encoded data removed]",
      "text/plain": [
       "<Figure size 432x288 with 2 Axes>"
      ]
     },
     "metadata": {
      "needs_background": "light"
     },
     "output_type": "display_data"
    }
   ],
   "source": [
    "# Plot normalized confusion matrix\n",
    "labels = list(label_transform.classes_)\n",
    "\n",
    "plot_confusion_matrix(y_test_12, y_pred_12, classes=['risk', 'non-risk'], normalize=True,\n",
    "                      title='Normalized confusion matrix')\n",
    "\n",
    "plt.savefig('confusion_matrix12.pdf')"
   ]
  },
  {
   "cell_type": "markdown",
   "metadata": {},
   "source": [
    "## Note:\n",
    "Groups are not correctly predicted. It's not better than trowing dices..."
   ]
  },
  {
   "cell_type": "markdown",
   "metadata": {},
   "source": [
    "## Check if stimuli types are predicted correctly:"
   ]
  },
  {
   "cell_type": "code",
   "execution_count": 102,
   "metadata": {},
   "outputs": [
    {
     "name": "stdout",
     "output_type": "stream",
     "text": [
      "[1 3 1 1 1 1 2 3 1 1 1 3 1 2 2 1 3 1 2 1 2 1 2 1 2 1 2 2 2 3]\n",
      "[1 2 2 2 1 1 2 2 1 1 1 1 1 2 3 1 2 1 2 1 3 1 2 1 3 1 2 2 3 2]\n"
     ]
    }
   ],
   "source": [
    "y_test_123 = np.array(y_test.copy())\n",
    "y_test_123[y_test_123 == 6] = 1\n",
    "y_test_123[y_test_123 == 3] = 1\n",
    "y_test_123[y_test_123 == 26] = 2\n",
    "y_test_123[y_test_123 == 13] = 2\n",
    "y_test_123[y_test_123 == 132] = 3\n",
    "y_test_123[y_test_123 == 66] = 3\n",
    "\n",
    "y_pred_123 = y_pred_classes.copy()\n",
    "y_pred_123[(y_pred_123 == 1) | (y_pred_123 == 0)] = 1\n",
    "y_pred_123[(y_pred_123 == 3) | (y_pred_123 == 2)] = 2\n",
    "y_pred_123[(y_pred_123 == 5) | (y_pred_123 == 4)] = 3\n",
    "\n",
    "print(y_test_123[:30].astype(int))\n",
    "print(y_pred_123[:30])"
   ]
  },
  {
   "cell_type": "code",
   "execution_count": 103,
   "metadata": {},
   "outputs": [
    {
     "data": {
      "text/plain": [
       "0.7475"
      ]
     },
     "execution_count": 103,
     "metadata": {},
     "output_type": "execute_result"
    }
   ],
   "source": [
    "np.sum(y_test_123 == y_pred_123)/ y_pred_123.shape[0]"
   ]
  },
  {
   "cell_type": "code",
   "execution_count": 110,
   "metadata": {},
   "outputs": [
    {
     "name": "stdout",
     "output_type": "stream",
     "text": [
      "Normalized confusion matrix\n",
      "[[0.90954774 0.07035176 0.0201005 ]\n",
      " [0.05940594 0.68316832 0.25742574]\n",
      " [0.13       0.38       0.49      ]]\n"
     ]
    },
    {
     "data": {
      "image/png": "[encoded data removed]",
      "text/plain": [
       "<Figure size 432x288 with 2 Axes>"
      ]
     },
     "metadata": {
      "needs_background": "light"
     },
     "output_type": "display_data"
    }
   ],
   "source": [
    "# Plot normalized confusion matrix\n",
    "labels = list(label_transform.classes_)\n",
    "\n",
    "plot_confusion_matrix(y_test_123, y_pred_123, classes=['standard', 'deviant 1', 'deviant 2'], normalize=True,\n",
    "                      title='Normalized confusion matrix')\n",
    "\n",
    "plt.savefig('confusion_matrix123.pdf')"
   ]
  },
  {
   "cell_type": "markdown",
   "metadata": {},
   "source": [
    "## Observation:\n",
    "So far this is not working as a proper discriminator between group1 and group2!  \n",
    "The test dataset contains about equal amounts of data from both groups, and the model does do better than random guessing (50% hits)."
   ]
  },
  {
   "cell_type": "code",
   "execution_count": 100,
   "metadata": {},
   "outputs": [
    {
     "data": {
      "text/plain": [
       "array([[47, 45,  2,  3,  1,  0],\n",
       "       [44, 45,  5,  4,  3,  0],\n",
       "       [ 0,  0, 25, 13, 14,  0],\n",
       "       [ 3,  3, 20, 11,  8,  4],\n",
       "       [ 0,  3, 11,  7, 15, 12],\n",
       "       [ 3,  7, 17,  3, 19,  3]], dtype=int64)"
      ]
     },
     "execution_count": 100,
     "metadata": {},
     "output_type": "execute_result"
    }
   ],
   "source": [
    "# Confusion matrix:\n",
    "M_confusion = metrics.confusion_matrix(y_test_05, y_pred_classes)\n",
    "M_confusion"
   ]
  },
  {
   "cell_type": "code",
   "execution_count": 101,
   "metadata": {},
   "outputs": [
    {
     "name": "stdout",
     "output_type": "stream",
     "text": [
      "Normalized confusion matrix\n",
      "[[0.47959184 0.45918367 0.02040816 0.03061224 0.01020408 0.        ]\n",
      " [0.43564356 0.44554455 0.04950495 0.03960396 0.02970297 0.        ]\n",
      " [0.         0.         0.48076923 0.25       0.26923077 0.        ]\n",
      " [0.06122449 0.06122449 0.40816327 0.2244898  0.16326531 0.08163265]\n",
      " [0.         0.0625     0.22916667 0.14583333 0.3125     0.25      ]\n",
      " [0.05769231 0.13461538 0.32692308 0.05769231 0.36538462 0.05769231]]\n"
     ]
    },
    {
     "data": {
      "image/png": "[encoded data removed]",
      "text/plain": [
       "<Figure size 432x288 with 2 Axes>"
      ]
     },
     "metadata": {
      "needs_background": "light"
     },
     "output_type": "display_data"
    }
   ],
   "source": [
    "# Plot normalized confusion matrix\n",
    "labels = list(label_transform.classes_)\n",
    "\n",
    "plot_confusion_matrix(y_test_05, y_pred_classes, classes=labels, normalize=True,\n",
    "                      title='Normalized confusion matrix')\n",
    "\n",
    "plt.savefig('confusion_matrix2.pdf')"
   ]
  },
  {
   "cell_type": "markdown",
   "metadata": {},
   "source": [
    "# 3. Train on only stimuli labels (not including patient groups)"
   ]
  },
  {
   "cell_type": "code",
   "execution_count": 143,
   "metadata": {},
   "outputs": [],
   "source": [
    "old_label = [3,6,13,26,66,132]\n",
    "new_label = [3,3,13,13,66,66]\n",
    "\n",
    "y_train_123 = np.zeros((len(y_train)))\n",
    "for i, old in enumerate(old_label):\n",
    "    y_train_123[np.where(np.array(y_train) == old)[0]] = new_label[i]\n",
    "\n",
    "y_val_123 = np.zeros((len(y_val)))\n",
    "for i, old in enumerate(old_label):\n",
    "    y_val_123[np.where(np.array(y_val) == old)[0]] = new_label[i]\n",
    "    \n",
    "y_test_123 = np.zeros((len(y_test)))\n",
    "for i, old in enumerate(old_label):\n",
    "    y_test_123[np.where(np.array(y_test) == old)[0]] = new_label[i]"
   ]
  },
  {
   "cell_type": "code",
   "execution_count": 144,
   "metadata": {},
   "outputs": [],
   "source": [
    "label_transform = LabelBinarizer()\n",
    "\n",
    "y_train123_binary = label_transform.fit_transform(np.array(y_train_123).astype(int))\n",
    "y_val123_binary = label_transform.fit_transform(np.array(y_val_123).astype(int))\n",
    "y_test123_binary = label_transform.fit_transform(np.array(y_test_123).astype(int))"
   ]
  },
  {
   "cell_type": "code",
   "execution_count": 117,
   "metadata": {},
   "outputs": [],
   "source": [
    "from tensorflow.keras.callbacks import ModelCheckpoint, EarlyStopping\n",
    "output_file = 'CNN_EEG_classifier_avg_123'\n",
    "\n",
    "checkpointer = ModelCheckpoint(filepath = PATH_MODELS + output_file + \".hdf5\", monitor='val_acc', verbose=1, save_best_only=True)\n",
    "earlystopper = EarlyStopping(monitor='val_acc', patience=5, verbose=1)"
   ]
  },
  {
   "cell_type": "code",
   "execution_count": 118,
   "metadata": {},
   "outputs": [],
   "source": [
    "# Simple CNN model\n",
    "n_timesteps = 501\n",
    "n_features = 30\n",
    "n_outputs = 3\n",
    "\n",
    "model = tf.keras.Sequential()\n",
    "model.add(layers.Conv1D(filters=32, kernel_size=20, input_shape=(n_timesteps,n_features)))\n",
    "model.add(layers.BatchNormalization())\n",
    "model.add(layers.LeakyReLU())\n",
    "\n",
    "model.add(layers.Conv1D(filters=64, kernel_size=10)) #, activation='relu'))\n",
    "model.add(layers.BatchNormalization())\n",
    "model.add(layers.LeakyReLU())\n",
    "\n",
    "model.add(layers.Conv1D(filters=32, kernel_size=5)) #, activation='relu'))\n",
    "model.add(layers.BatchNormalization())\n",
    "model.add(layers.LeakyReLU())\n",
    "model.add(layers.AveragePooling1D(pool_size=4))\n",
    "\n",
    "model.add(layers.Flatten())\n",
    "model.add(layers.Dense(100, activation='relu'))\n",
    "model.add(layers.Dropout(0.5))\n",
    "model.add(layers.Dense(n_outputs, activation='softmax'))\n",
    "model.compile(loss='categorical_crossentropy', optimizer='adadelta', metrics=['accuracy'])"
   ]
  },
  {
   "cell_type": "code",
   "execution_count": 119,
   "metadata": {},
   "outputs": [
    {
     "name": "stdout",
     "output_type": "stream",
     "text": [
      "_________________________________________________________________\n",
      "Layer (type)                 Output Shape              Param #   \n",
      "=================================================================\n",
      "conv1d_6 (Conv1D)            (None, 482, 32)           19232     \n",
      "_________________________________________________________________\n",
      "batch_normalization_v1_6 (Ba (None, 482, 32)           128       \n",
      "_________________________________________________________________\n",
      "leaky_re_lu_6 (LeakyReLU)    (None, 482, 32)           0         \n",
      "_________________________________________________________________\n",
      "conv1d_7 (Conv1D)            (None, 473, 64)           20544     \n",
      "_________________________________________________________________\n",
      "batch_normalization_v1_7 (Ba (None, 473, 64)           256       \n",
      "_________________________________________________________________\n",
      "leaky_re_lu_7 (LeakyReLU)    (None, 473, 64)           0         \n",
      "_________________________________________________________________\n",
      "conv1d_8 (Conv1D)            (None, 469, 32)           10272     \n",
      "_________________________________________________________________\n",
      "batch_normalization_v1_8 (Ba (None, 469, 32)           128       \n",
      "_________________________________________________________________\n",
      "leaky_re_lu_8 (LeakyReLU)    (None, 469, 32)           0         \n",
      "_________________________________________________________________\n",
      "average_pooling1d_4 (Average (None, 117, 32)           0         \n",
      "_________________________________________________________________\n",
      "flatten_2 (Flatten)          (None, 3744)              0         \n",
      "_________________________________________________________________\n",
      "dense_4 (Dense)              (None, 100)               374500    \n",
      "_________________________________________________________________\n",
      "dropout_2 (Dropout)          (None, 100)               0         \n",
      "_________________________________________________________________\n",
      "dense_5 (Dense)              (None, 3)                 303       \n",
      "=================================================================\n",
      "Total params: 425,363\n",
      "Trainable params: 425,107\n",
      "Non-trainable params: 256\n",
      "_________________________________________________________________\n"
     ]
    }
   ],
   "source": [
    "model.summary()"
   ]
  },
  {
   "cell_type": "code",
   "execution_count": 146,
   "metadata": {},
   "outputs": [
    {
     "data": {
      "text/plain": [
       "array([[0, 1, 0],\n",
       "       [0, 0, 1],\n",
       "       [0, 1, 0],\n",
       "       [1, 0, 0],\n",
       "       [1, 0, 0],\n",
       "       [0, 1, 0],\n",
       "       [0, 1, 0],\n",
       "       [1, 0, 0],\n",
       "       [1, 0, 0],\n",
       "       [1, 0, 0]])"
      ]
     },
     "execution_count": 146,
     "metadata": {},
     "output_type": "execute_result"
    }
   ],
   "source": [
    "y_train123_binary[:10,:]"
   ]
  },
  {
   "cell_type": "code",
   "execution_count": null,
   "metadata": {},
   "outputs": [],
   "source": []
  },
  {
   "cell_type": "code",
   "execution_count": 135,
   "metadata": {},
   "outputs": [
    {
     "name": "stdout",
     "output_type": "stream",
     "text": [
      "Train on 1570 samples, validate on 400 samples\n",
      "Epoch 1/50\n",
      "1568/1570 [============================>.] - ETA: 0s - loss: 0.7090 - acc: 0.7022\n",
      "Epoch 00001: val_acc improved from -inf to 0.66250, saving model to C:\\OneDrive - Netherlands eScience Center\\Project_ePodium\\trained_models\\CNN_EEG_classifier_avg_123.hdf5\n",
      "1570/1570 [==============================] - 15s 9ms/sample - loss: 0.7082 - acc: 0.7025 - val_loss: 0.8976 - val_acc: 0.6625\n",
      "Epoch 2/50\n",
      "1568/1570 [============================>.] - ETA: 0s - loss: 0.3524 - acc: 0.8202\n",
      "Epoch 00002: val_acc did not improve from 0.66250\n",
      "1570/1570 [==============================] - 10s 6ms/sample - loss: 0.3524 - acc: 0.8204 - val_loss: 0.9801 - val_acc: 0.4700\n",
      "Epoch 3/50\n",
      "1568/1570 [============================>.] - ETA: 0s - loss: 0.2842 - acc: 0.8610\n",
      "Epoch 00003: val_acc did not improve from 0.66250\n",
      "1570/1570 [==============================] - 11s 7ms/sample - loss: 0.2840 - acc: 0.8611 - val_loss: 0.7242 - val_acc: 0.6550\n",
      "Epoch 4/50\n",
      "1568/1570 [============================>.] - ETA: 0s - loss: 0.2333 - acc: 0.8890\n",
      "Epoch 00004: val_acc improved from 0.66250 to 0.70750, saving model to C:\\OneDrive - Netherlands eScience Center\\Project_ePodium\\trained_models\\CNN_EEG_classifier_avg_123.hdf5\n",
      "1570/1570 [==============================] - 11s 7ms/sample - loss: 0.2331 - acc: 0.8892 - val_loss: 0.7299 - val_acc: 0.7075\n",
      "Epoch 5/50\n",
      "1568/1570 [============================>.] - ETA: 0s - loss: 0.2046 - acc: 0.8941\n",
      "Epoch 00005: val_acc improved from 0.70750 to 0.75000, saving model to C:\\OneDrive - Netherlands eScience Center\\Project_ePodium\\trained_models\\CNN_EEG_classifier_avg_123.hdf5\n",
      "1570/1570 [==============================] - 11s 7ms/sample - loss: 0.2055 - acc: 0.8936 - val_loss: 0.7212 - val_acc: 0.7500\n",
      "Epoch 6/50\n",
      "1568/1570 [============================>.] - ETA: 0s - loss: 0.1812 - acc: 0.9158\n",
      "Epoch 00006: val_acc improved from 0.75000 to 0.78250, saving model to C:\\OneDrive - Netherlands eScience Center\\Project_ePodium\\trained_models\\CNN_EEG_classifier_avg_123.hdf5\n",
      "1570/1570 [==============================] - 12s 7ms/sample - loss: 0.1811 - acc: 0.9159 - val_loss: 0.6441 - val_acc: 0.7825\n",
      "Epoch 7/50\n",
      "1568/1570 [============================>.] - ETA: 0s - loss: 0.1666 - acc: 0.9184\n",
      "Epoch 00007: val_acc did not improve from 0.78250\n",
      "1570/1570 [==============================] - 12s 8ms/sample - loss: 0.1667 - acc: 0.9178 - val_loss: 0.8346 - val_acc: 0.7700\n",
      "Epoch 8/50\n",
      "1568/1570 [============================>.] - ETA: 0s - loss: 0.1526 - acc: 0.9235\n",
      "Epoch 00008: val_acc improved from 0.78250 to 0.79000, saving model to C:\\OneDrive - Netherlands eScience Center\\Project_ePodium\\trained_models\\CNN_EEG_classifier_avg_123.hdf5\n",
      "1570/1570 [==============================] - 12s 8ms/sample - loss: 0.1524 - acc: 0.9236 - val_loss: 0.7880 - val_acc: 0.7900\n",
      "Epoch 9/50\n",
      "1568/1570 [============================>.] - ETA: 0s - loss: 0.1368 - acc: 0.9349\n",
      "Epoch 00009: val_acc improved from 0.79000 to 0.81250, saving model to C:\\OneDrive - Netherlands eScience Center\\Project_ePodium\\trained_models\\CNN_EEG_classifier_avg_123.hdf5\n",
      "1570/1570 [==============================] - 12s 8ms/sample - loss: 0.1366 - acc: 0.9350 - val_loss: 0.9044 - val_acc: 0.8125\n",
      "Epoch 10/50\n",
      "1568/1570 [============================>.] - ETA: 0s - loss: 0.1257 - acc: 0.9445\n",
      "Epoch 00010: val_acc did not improve from 0.81250\n",
      "1570/1570 [==============================] - 12s 8ms/sample - loss: 0.1256 - acc: 0.9446 - val_loss: 1.3302 - val_acc: 0.7600\n",
      "Epoch 11/50\n",
      "1568/1570 [============================>.] - ETA: 0s - loss: 0.1336 - acc: 0.9369\n",
      "Epoch 00011: val_acc did not improve from 0.81250\n",
      "1570/1570 [==============================] - 12s 8ms/sample - loss: 0.1334 - acc: 0.9369 - val_loss: 1.1152 - val_acc: 0.8050\n",
      "Epoch 12/50\n",
      "1568/1570 [============================>.] - ETA: 0s - loss: 0.0966 - acc: 0.9547\n",
      "Epoch 00012: val_acc did not improve from 0.81250\n",
      "1570/1570 [==============================] - 12s 8ms/sample - loss: 0.0969 - acc: 0.9541 - val_loss: 1.1139 - val_acc: 0.7700\n",
      "Epoch 13/50\n",
      "1568/1570 [============================>.] - ETA: 0s - loss: 0.0927 - acc: 0.9554\n",
      "Epoch 00013: val_acc did not improve from 0.81250\n",
      "1570/1570 [==============================] - 12s 8ms/sample - loss: 0.0926 - acc: 0.9554 - val_loss: 1.2825 - val_acc: 0.7750\n",
      "Epoch 14/50\n",
      "1568/1570 [============================>.] - ETA: 0s - loss: 0.0997 - acc: 0.9534\n",
      "Epoch 00014: val_acc did not improve from 0.81250\n",
      "1570/1570 [==============================] - 12s 8ms/sample - loss: 0.0996 - acc: 0.9535 - val_loss: 1.3904 - val_acc: 0.7925\n",
      "Epoch 00014: early stopping\n"
     ]
    },
    {
     "data": {
      "text/plain": [
       "<tensorflow.python.keras.callbacks.History at 0x212626c5198>"
      ]
     },
     "execution_count": 135,
     "metadata": {},
     "output_type": "execute_result"
    }
   ],
   "source": [
    "epochs = 50\n",
    "batch_size = 32\n",
    "\n",
    "# Fit network\n",
    "model.fit(np.swapaxes(X_train,1,2), \n",
    "          y_train123_binary, \n",
    "          validation_data=(np.swapaxes(X_val,1,2), y_val123_binary), \n",
    "          epochs=epochs, \n",
    "          batch_size=batch_size,\n",
    "          class_weight = class_weight,\n",
    "          callbacks = [checkpointer, earlystopper])"
   ]
  },
  {
   "cell_type": "code",
   "execution_count": 151,
   "metadata": {},
   "outputs": [],
   "source": [
    "# Check model predictions:\n",
    "y_pred_123 = model.predict_classes(Xtest)"
   ]
  },
  {
   "cell_type": "code",
   "execution_count": 152,
   "metadata": {},
   "outputs": [],
   "source": [
    "y_pred_123 = y_pred_123.copy()\n",
    "y_pred_123[y_pred_123 == 2] = 66\n",
    "y_pred_123[y_pred_123 == 1] = 13\n",
    "y_pred_123[y_pred_123 == 0] = 3"
   ]
  },
  {
   "cell_type": "code",
   "execution_count": 150,
   "metadata": {},
   "outputs": [
    {
     "data": {
      "text/plain": [
       "array([ 3., 66.,  3.,  3.,  3.,  3., 13., 66.,  3.,  3.,  3., 66.,  3.,\n",
       "       13., 13.,  3., 66.,  3., 13.,  3.])"
      ]
     },
     "execution_count": 150,
     "metadata": {},
     "output_type": "execute_result"
    }
   ],
   "source": [
    "y_test_123[:20]"
   ]
  },
  {
   "cell_type": "code",
   "execution_count": 153,
   "metadata": {},
   "outputs": [
    {
     "name": "stdout",
     "output_type": "stream",
     "text": [
      "Normalized confusion matrix\n",
      "[[0.95979899 0.0201005  0.0201005 ]\n",
      " [0.07920792 0.68316832 0.23762376]\n",
      " [0.1        0.38       0.52      ]]\n"
     ]
    },
    {
     "data": {
      "image/png": "[encoded data removed]",
      "text/plain": [
       "<Figure size 432x288 with 2 Axes>"
      ]
     },
     "metadata": {
      "needs_background": "light"
     },
     "output_type": "display_data"
    }
   ],
   "source": [
    "# Plot normalized confusion matrix\n",
    "plot_confusion_matrix(y_test_123, y_pred_123, classes=['standard', 'deviant 1', 'deviant 2'], normalize=True,\n",
    "                      title='Normalized confusion matrix')\n",
    "\n",
    "plt.savefig('confusion_matrix123_training123.pdf')"
   ]
  }
 ],
 "metadata": {
  "kernelspec": {
   "display_name": "Python 3",
   "language": "python",
   "name": "python3"
  },
  "language_info": {
   "codemirror_mode": {
    "name": "ipython",
    "version": 3
   },
   "file_extension": ".py",
   "mimetype": "text/x-python",
   "name": "python",
   "nbconvert_exporter": "python",
   "pygments_lexer": "ipython3",
   "version": "3.6.8"
  }
 },
 "nbformat": 4,
 "nbformat_minor": 2
}
